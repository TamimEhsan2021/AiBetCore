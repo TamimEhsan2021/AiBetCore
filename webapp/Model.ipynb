{
 "cells": [
  {
   "cell_type": "code",
   "execution_count": 1,
   "id": "d013227b",
   "metadata": {},
   "outputs": [],
   "source": [
    "from sklearn.linear_model import LinearRegression\n",
    "import pandas as pd\n",
    "import numpy as np"
   ]
  },
  {
   "cell_type": "code",
   "execution_count": 5,
   "id": "4eb18c58",
   "metadata": {},
   "outputs": [],
   "source": [
    "pd_data = pd.read_csv('cleanDataForApp.csv')"
   ]
  },
  {
   "cell_type": "code",
   "execution_count": 6,
   "id": "cfff7311",
   "metadata": {},
   "outputs": [
    {
     "data": {
      "text/html": [
       "<div>\n",
       "<style scoped>\n",
       "    .dataframe tbody tr th:only-of-type {\n",
       "        vertical-align: middle;\n",
       "    }\n",
       "\n",
       "    .dataframe tbody tr th {\n",
       "        vertical-align: top;\n",
       "    }\n",
       "\n",
       "    .dataframe thead th {\n",
       "        text-align: right;\n",
       "    }\n",
       "</style>\n",
       "<table border=\"1\" class=\"dataframe\">\n",
       "  <thead>\n",
       "    <tr style=\"text-align: right;\">\n",
       "      <th></th>\n",
       "      <th>Season</th>\n",
       "      <th>Round</th>\n",
       "      <th>home_EOL</th>\n",
       "      <th>away_EOL</th>\n",
       "      <th>home_result</th>\n",
       "    </tr>\n",
       "  </thead>\n",
       "  <tbody>\n",
       "    <tr>\n",
       "      <th>0</th>\n",
       "      <td>2021</td>\n",
       "      <td>1</td>\n",
       "      <td>65</td>\n",
       "      <td>60</td>\n",
       "      <td>1</td>\n",
       "    </tr>\n",
       "    <tr>\n",
       "      <th>1</th>\n",
       "      <td>2021</td>\n",
       "      <td>1</td>\n",
       "      <td>52</td>\n",
       "      <td>59</td>\n",
       "      <td>1</td>\n",
       "    </tr>\n",
       "    <tr>\n",
       "      <th>2</th>\n",
       "      <td>2021</td>\n",
       "      <td>1</td>\n",
       "      <td>41</td>\n",
       "      <td>48</td>\n",
       "      <td>-1</td>\n",
       "    </tr>\n",
       "    <tr>\n",
       "      <th>3</th>\n",
       "      <td>2021</td>\n",
       "      <td>1</td>\n",
       "      <td>63</td>\n",
       "      <td>57</td>\n",
       "      <td>1</td>\n",
       "    </tr>\n",
       "    <tr>\n",
       "      <th>4</th>\n",
       "      <td>2021</td>\n",
       "      <td>1</td>\n",
       "      <td>47</td>\n",
       "      <td>50</td>\n",
       "      <td>-1</td>\n",
       "    </tr>\n",
       "    <tr>\n",
       "      <th>...</th>\n",
       "      <td>...</td>\n",
       "      <td>...</td>\n",
       "      <td>...</td>\n",
       "      <td>...</td>\n",
       "      <td>...</td>\n",
       "    </tr>\n",
       "    <tr>\n",
       "      <th>26818</th>\n",
       "      <td>2021</td>\n",
       "      <td>25</td>\n",
       "      <td>55</td>\n",
       "      <td>48</td>\n",
       "      <td>0</td>\n",
       "    </tr>\n",
       "    <tr>\n",
       "      <th>26819</th>\n",
       "      <td>2021</td>\n",
       "      <td>25</td>\n",
       "      <td>58</td>\n",
       "      <td>59</td>\n",
       "      <td>0</td>\n",
       "    </tr>\n",
       "    <tr>\n",
       "      <th>26820</th>\n",
       "      <td>2021</td>\n",
       "      <td>25</td>\n",
       "      <td>60</td>\n",
       "      <td>39</td>\n",
       "      <td>-1</td>\n",
       "    </tr>\n",
       "    <tr>\n",
       "      <th>26821</th>\n",
       "      <td>2021</td>\n",
       "      <td>25</td>\n",
       "      <td>51</td>\n",
       "      <td>58</td>\n",
       "      <td>0</td>\n",
       "    </tr>\n",
       "    <tr>\n",
       "      <th>26822</th>\n",
       "      <td>2021</td>\n",
       "      <td>25</td>\n",
       "      <td>51</td>\n",
       "      <td>61</td>\n",
       "      <td>0</td>\n",
       "    </tr>\n",
       "  </tbody>\n",
       "</table>\n",
       "<p>26823 rows × 5 columns</p>\n",
       "</div>"
      ],
      "text/plain": [
       "       Season  Round  home_EOL  away_EOL  home_result\n",
       "0        2021      1        65        60            1\n",
       "1        2021      1        52        59            1\n",
       "2        2021      1        41        48           -1\n",
       "3        2021      1        63        57            1\n",
       "4        2021      1        47        50           -1\n",
       "...       ...    ...       ...       ...          ...\n",
       "26818    2021     25        55        48            0\n",
       "26819    2021     25        58        59            0\n",
       "26820    2021     25        60        39           -1\n",
       "26821    2021     25        51        58            0\n",
       "26822    2021     25        51        61            0\n",
       "\n",
       "[26823 rows x 5 columns]"
      ]
     },
     "execution_count": 6,
     "metadata": {},
     "output_type": "execute_result"
    }
   ],
   "source": [
    "pd_data"
   ]
  },
  {
   "cell_type": "code",
   "execution_count": 7,
   "id": "82f8c59f",
   "metadata": {},
   "outputs": [
    {
     "data": {
      "text/plain": [
       "(20000, 3317, 3506)"
      ]
     },
     "execution_count": 7,
     "metadata": {},
     "output_type": "execute_result"
    }
   ],
   "source": [
    "train_pd, test_pd, val_pd = pd_data[:20000], pd_data[20000:23317], pd_data[23317:]\n",
    "len(train_pd), len(test_pd), len(val_pd)"
   ]
  },
  {
   "cell_type": "code",
   "execution_count": 43,
   "id": "c53ba3c5",
   "metadata": {},
   "outputs": [
    {
     "data": {
      "text/plain": [
       "((20000, 4), (20000,), (3506, 4), (3506,), (3317, 4), (3317,))"
      ]
     },
     "execution_count": 43,
     "metadata": {},
     "output_type": "execute_result"
    }
   ],
   "source": [
    "# Convert the datasets into to numpy to turn the data into matricies and vectors\n",
    "\n",
    "X_train, y_train = train_pd.to_numpy()[:, :-1], train_pd.to_numpy()[:, -1]\n",
    "X_val, y_val = val_pd.to_numpy()[:, :-1], val_pd.to_numpy()[:, -1]\n",
    "X_test, y_test = test_pd.to_numpy()[:, :-1], test_pd.to_numpy()[:, -1]\n",
    "\n",
    "X_train.shape, y_train.shape, X_val.shape, y_val.shape, X_test.shape, y_test.shape"
   ]
  },
  {
   "cell_type": "code",
   "execution_count": 9,
   "id": "4ca673d0",
   "metadata": {},
   "outputs": [],
   "source": [
    "from sklearn.preprocessing import StandardScaler\n",
    "import numpy as np\n",
    "\n",
    "scaler = StandardScaler().fit(X_train[:, :4])\n",
    "\n",
    "def preprocessor(X):\n",
    "  A = np.copy(X)\n",
    "  A[:, :4] = scaler.transform(A[:, :5])\n",
    "  return A\n",
    "\n",
    "X_train, X_val, X_test = preprocessor(X_train), preprocessor(X_val), preprocessor(X_test)"
   ]
  },
  {
   "cell_type": "code",
   "execution_count": 44,
   "id": "f9a9eef9",
   "metadata": {},
   "outputs": [
    {
     "data": {
      "text/plain": [
       "<matplotlib.axes._subplots.AxesSubplot at 0x7f6c1500c460>"
      ]
     },
     "execution_count": 44,
     "metadata": {},
     "output_type": "execute_result"
    },
    {
     "data": {
      "image/png": "[encoded data removed]",
      "text/plain": [
       "<Figure size 432x288 with 1 Axes>"
      ]
     },
     "metadata": {
      "needs_background": "light"
     },
     "output_type": "display_data"
    }
   ],
   "source": [
    "pd.DataFrame(X_train)[2].hist()"
   ]
  },
  {
   "cell_type": "code",
   "execution_count": 45,
   "id": "49545a2d",
   "metadata": {},
   "outputs": [
    {
     "name": "stdout",
     "output_type": "stream",
     "text": [
      "The accuracy score we have achieved using Linear SVM is: 46.52 %\n"
     ]
    }
   ],
   "source": [
    "from sklearn import svm\n",
    "from sklearn.metrics import accuracy_score\n",
    "sv = svm.SVC(kernel='linear')\n",
    "model=sv.fit(X_train, y_train)\n",
    "Y_pred_svm = sv.predict(X_val)\n",
    "score_svm = round(accuracy_score(Y_pred_svm,y_val)*100,2)\n",
    "print(\"The accuracy score we have achieved using Linear SVM is: \"+str(score_svm)+\" %\")"
   ]
  },
  {
   "cell_type": "code",
   "execution_count": 46,
   "id": "2043fecf",
   "metadata": {},
   "outputs": [],
   "source": [
    "from joblib import dump, load"
   ]
  },
  {
   "cell_type": "code",
   "execution_count": 47,
   "id": "a0d2202e",
   "metadata": {},
   "outputs": [
    {
     "data": {
      "text/plain": [
       "['model.joblib']"
      ]
     },
     "execution_count": 47,
     "metadata": {},
     "output_type": "execute_result"
    }
   ],
   "source": [
    "dump(model, 'model.joblib')"
   ]
  },
  {
   "cell_type": "code",
   "execution_count": 48,
   "id": "d1c47490",
   "metadata": {},
   "outputs": [],
   "source": [
    "model_in = load('model.joblib')"
   ]
  },
  {
   "cell_type": "code",
   "execution_count": 53,
   "id": "c06dd51c",
   "metadata": {},
   "outputs": [
    {
     "data": {
      "text/plain": [
       "array([-1,  1, -1, -1])"
      ]
     },
     "execution_count": 53,
     "metadata": {},
     "output_type": "execute_result"
    }
   ],
   "source": [
    "model_in.predict(np.array([[2021,24,1,100],[2021,5,80,80],[2021,24,8,55],[2021,24,20,67]]))"
   ]
  },
  {
   "cell_type": "code",
   "execution_count": null,
   "id": "c85b3773",
   "metadata": {},
   "outputs": [],
   "source": []
  }
 ],
 "metadata": {
  "kernelspec": {
   "display_name": "Python 3 (ipykernel)",
   "language": "python",
   "name": "python3"
  },
  "language_info": {
   "codemirror_mode": {
    "name": "ipython",
    "version": 3
   },
   "file_extension": ".py",
   "mimetype": "text/x-python",
   "name": "python",
   "nbconvert_exporter": "python",
   "pygments_lexer": "ipython3",
   "version": "3.8.10"
  }
 },
 "nbformat": 4,
 "nbformat_minor": 5
}
