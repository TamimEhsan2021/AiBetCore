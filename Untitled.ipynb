{
 "cells": [
  {
   "cell_type": "code",
   "execution_count": 1,
   "id": "082603d2",
   "metadata": {
    "ExecuteTime": {
     "end_time": "2021-11-10T19:12:18.288704Z",
     "start_time": "2021-11-10T19:12:16.619753Z"
    }
   },
   "outputs": [],
   "source": [
    "import pandas as pd\n",
    "import matplotlib.pyplot as plt\n",
    "from sklearn import model_selection\n",
    "import numpy as np\n",
    "from sklearn.linear_model import LinearRegression\n",
    "from sklearn.model_selection import train_test_split\n",
    "from sklearn.metrics import r2_score\n",
    "from sklearn.metrics import mean_squared_error\n",
    "from sklearn.svm import SVR\n",
    "from sklearn.tree import DecisionTreeRegressor"
   ]
  },
  {
   "cell_type": "code",
   "execution_count": null,
   "id": "244bddf8",
   "metadata": {
    "ExecuteTime": {
     "end_time": "2021-11-01T19:12:25.850727Z",
     "start_time": "2021-11-01T19:12:20.864733Z"
    }
   },
   "outputs": [],
   "source": []
  },
  {
   "cell_type": "code",
   "execution_count": 2,
   "id": "ad7f0252",
   "metadata": {
    "ExecuteTime": {
     "end_time": "2021-11-10T19:12:22.204549Z",
     "start_time": "2021-11-10T19:12:18.290785Z"
    }
   },
   "outputs": [],
   "source": [
    "import os\n",
    "import glob\n",
    "from pathlib import Path\n",
    "\n",
    "path = os.getcwd()+'/Data'\n",
    "furtherpath = path+'/Results_Cleaned'\n",
    "file_list = []\n",
    "for path in Path(furtherpath).rglob('*.csv'):\n",
    "    file_list.append(path)\n",
    "#combine all files in the list\n",
    "combined_csv = pd.concat([pd.read_csv(f) for f in file_list])\n",
    "#export to csv\n",
    "combined_csv.to_csv( \"combined_clean.csv\", index=False, encoding='utf-8-sig')"
   ]
  },
  {
   "cell_type": "code",
   "execution_count": 3,
   "id": "f21a4c37",
   "metadata": {
    "ExecuteTime": {
     "end_time": "2021-11-10T19:12:22.304455Z",
     "start_time": "2021-11-10T19:12:22.206646Z"
    }
   },
   "outputs": [
    {
     "data": {
      "text/html": [
       "<div>\n",
       "<style scoped>\n",
       "    .dataframe tbody tr th:only-of-type {\n",
       "        vertical-align: middle;\n",
       "    }\n",
       "\n",
       "    .dataframe tbody tr th {\n",
       "        vertical-align: top;\n",
       "    }\n",
       "\n",
       "    .dataframe thead th {\n",
       "        text-align: right;\n",
       "    }\n",
       "</style>\n",
       "<table border=\"1\" class=\"dataframe\">\n",
       "  <thead>\n",
       "    <tr style=\"text-align: right;\">\n",
       "      <th></th>\n",
       "      <th>Home_Team</th>\n",
       "      <th>Away_Team</th>\n",
       "      <th>Result</th>\n",
       "      <th>Link</th>\n",
       "      <th>Season</th>\n",
       "      <th>Round</th>\n",
       "      <th>League</th>\n",
       "      <th>Number_Teams</th>\n",
       "      <th>Total_Rounds</th>\n",
       "      <th>Label</th>\n",
       "      <th>...</th>\n",
       "      <th>Total_Streak_Away</th>\n",
       "      <th>Wins_When_Away</th>\n",
       "      <th>Draw_When_Away</th>\n",
       "      <th>Lose_When_Away</th>\n",
       "      <th>Goals_For_When_Away</th>\n",
       "      <th>Goals_Against_When_Away</th>\n",
       "      <th>Streak_When_Home</th>\n",
       "      <th>Streak_When_Away</th>\n",
       "      <th>Elo_Home</th>\n",
       "      <th>Elo_Away</th>\n",
       "    </tr>\n",
       "  </thead>\n",
       "  <tbody>\n",
       "    <tr>\n",
       "      <th>0</th>\n",
       "      <td>Birmingham City</td>\n",
       "      <td>Fulham</td>\n",
       "      <td>2-2</td>\n",
       "      <td>https://www.besoccer.com/match/birmingham-city...</td>\n",
       "      <td>2000</td>\n",
       "      <td>1</td>\n",
       "      <td>championship</td>\n",
       "      <td>24</td>\n",
       "      <td>46</td>\n",
       "      <td>1.0</td>\n",
       "      <td>...</td>\n",
       "      <td>0.0</td>\n",
       "      <td>0</td>\n",
       "      <td>0</td>\n",
       "      <td>0</td>\n",
       "      <td>0</td>\n",
       "      <td>0</td>\n",
       "      <td>0.0</td>\n",
       "      <td>0.0</td>\n",
       "      <td>58.0</td>\n",
       "      <td>48.0</td>\n",
       "    </tr>\n",
       "    <tr>\n",
       "      <th>1</th>\n",
       "      <td>Blackburn Rovers</td>\n",
       "      <td>Port Vale</td>\n",
       "      <td>0-0</td>\n",
       "      <td>https://www.besoccer.com/match/blackburn-rover...</td>\n",
       "      <td>2000</td>\n",
       "      <td>1</td>\n",
       "      <td>championship</td>\n",
       "      <td>24</td>\n",
       "      <td>46</td>\n",
       "      <td>1.0</td>\n",
       "      <td>...</td>\n",
       "      <td>0.0</td>\n",
       "      <td>0</td>\n",
       "      <td>0</td>\n",
       "      <td>0</td>\n",
       "      <td>0</td>\n",
       "      <td>0</td>\n",
       "      <td>0.0</td>\n",
       "      <td>0.0</td>\n",
       "      <td>69.0</td>\n",
       "      <td>53.0</td>\n",
       "    </tr>\n",
       "    <tr>\n",
       "      <th>2</th>\n",
       "      <td>Charlton Athletic</td>\n",
       "      <td>Barnsley</td>\n",
       "      <td>3-1</td>\n",
       "      <td>https://www.besoccer.com/match/charlton-athlet...</td>\n",
       "      <td>2000</td>\n",
       "      <td>1</td>\n",
       "      <td>championship</td>\n",
       "      <td>24</td>\n",
       "      <td>46</td>\n",
       "      <td>0.0</td>\n",
       "      <td>...</td>\n",
       "      <td>0.0</td>\n",
       "      <td>0</td>\n",
       "      <td>0</td>\n",
       "      <td>0</td>\n",
       "      <td>0</td>\n",
       "      <td>0</td>\n",
       "      <td>0.0</td>\n",
       "      <td>0.0</td>\n",
       "      <td>59.0</td>\n",
       "      <td>58.0</td>\n",
       "    </tr>\n",
       "    <tr>\n",
       "      <th>3</th>\n",
       "      <td>Crystal Palace</td>\n",
       "      <td>Crewe Alexandra</td>\n",
       "      <td>1-1</td>\n",
       "      <td>https://www.besoccer.com/match/crystal-palace-...</td>\n",
       "      <td>2000</td>\n",
       "      <td>1</td>\n",
       "      <td>championship</td>\n",
       "      <td>24</td>\n",
       "      <td>46</td>\n",
       "      <td>1.0</td>\n",
       "      <td>...</td>\n",
       "      <td>0.0</td>\n",
       "      <td>0</td>\n",
       "      <td>0</td>\n",
       "      <td>0</td>\n",
       "      <td>0</td>\n",
       "      <td>0</td>\n",
       "      <td>0.0</td>\n",
       "      <td>0.0</td>\n",
       "      <td>61.0</td>\n",
       "      <td>46.0</td>\n",
       "    </tr>\n",
       "    <tr>\n",
       "      <th>4</th>\n",
       "      <td>Grimsby Town</td>\n",
       "      <td>Stockport County</td>\n",
       "      <td>0-1</td>\n",
       "      <td>https://www.besoccer.com/match/grimsby-town/st...</td>\n",
       "      <td>2000</td>\n",
       "      <td>1</td>\n",
       "      <td>championship</td>\n",
       "      <td>24</td>\n",
       "      <td>46</td>\n",
       "      <td>2.0</td>\n",
       "      <td>...</td>\n",
       "      <td>0.0</td>\n",
       "      <td>0</td>\n",
       "      <td>0</td>\n",
       "      <td>0</td>\n",
       "      <td>0</td>\n",
       "      <td>0</td>\n",
       "      <td>0.0</td>\n",
       "      <td>0.0</td>\n",
       "      <td>53.0</td>\n",
       "      <td>54.0</td>\n",
       "    </tr>\n",
       "    <tr>\n",
       "      <th>...</th>\n",
       "      <td>...</td>\n",
       "      <td>...</td>\n",
       "      <td>...</td>\n",
       "      <td>...</td>\n",
       "      <td>...</td>\n",
       "      <td>...</td>\n",
       "      <td>...</td>\n",
       "      <td>...</td>\n",
       "      <td>...</td>\n",
       "      <td>...</td>\n",
       "      <td>...</td>\n",
       "      <td>...</td>\n",
       "      <td>...</td>\n",
       "      <td>...</td>\n",
       "      <td>...</td>\n",
       "      <td>...</td>\n",
       "      <td>...</td>\n",
       "      <td>...</td>\n",
       "      <td>...</td>\n",
       "      <td>...</td>\n",
       "      <td>...</td>\n",
       "    </tr>\n",
       "    <tr>\n",
       "      <th>375</th>\n",
       "      <td>Sampdoria</td>\n",
       "      <td>AlzanoCene</td>\n",
       "      <td>3-2</td>\n",
       "      <td>https://www.besoccer.com/match/sampdoria/alzan...</td>\n",
       "      <td>2000</td>\n",
       "      <td>38</td>\n",
       "      <td>serie_b</td>\n",
       "      <td>20</td>\n",
       "      <td>38</td>\n",
       "      <td>0.0</td>\n",
       "      <td>...</td>\n",
       "      <td>3.8</td>\n",
       "      <td>1</td>\n",
       "      <td>7</td>\n",
       "      <td>10</td>\n",
       "      <td>10</td>\n",
       "      <td>23</td>\n",
       "      <td>7.2</td>\n",
       "      <td>0.6</td>\n",
       "      <td>NaN</td>\n",
       "      <td>NaN</td>\n",
       "    </tr>\n",
       "    <tr>\n",
       "      <th>376</th>\n",
       "      <td>Vicenza</td>\n",
       "      <td>FC Savoia 1908</td>\n",
       "      <td>3-2</td>\n",
       "      <td>https://www.besoccer.com/match/vicenza-calcio/...</td>\n",
       "      <td>2000</td>\n",
       "      <td>38</td>\n",
       "      <td>serie_b</td>\n",
       "      <td>20</td>\n",
       "      <td>38</td>\n",
       "      <td>0.0</td>\n",
       "      <td>...</td>\n",
       "      <td>0.0</td>\n",
       "      <td>1</td>\n",
       "      <td>3</td>\n",
       "      <td>14</td>\n",
       "      <td>14</td>\n",
       "      <td>38</td>\n",
       "      <td>9.0</td>\n",
       "      <td>1.0</td>\n",
       "      <td>NaN</td>\n",
       "      <td>NaN</td>\n",
       "    </tr>\n",
       "    <tr>\n",
       "      <th>377</th>\n",
       "      <td>Cosenza Calcio</td>\n",
       "      <td>Brescia</td>\n",
       "      <td>2-2</td>\n",
       "      <td>https://www.besoccer.com/match/fortitudo-cosen...</td>\n",
       "      <td>2000</td>\n",
       "      <td>38</td>\n",
       "      <td>serie_b</td>\n",
       "      <td>20</td>\n",
       "      <td>38</td>\n",
       "      <td>1.0</td>\n",
       "      <td>...</td>\n",
       "      <td>5.4</td>\n",
       "      <td>5</td>\n",
       "      <td>9</td>\n",
       "      <td>4</td>\n",
       "      <td>21</td>\n",
       "      <td>24</td>\n",
       "      <td>7.8</td>\n",
       "      <td>1.4</td>\n",
       "      <td>NaN</td>\n",
       "      <td>NaN</td>\n",
       "    </tr>\n",
       "    <tr>\n",
       "      <th>378</th>\n",
       "      <td>Pescara</td>\n",
       "      <td>AC Monza</td>\n",
       "      <td>3-3</td>\n",
       "      <td>https://www.besoccer.com/match/pescara-calcio/...</td>\n",
       "      <td>2000</td>\n",
       "      <td>38</td>\n",
       "      <td>serie_b</td>\n",
       "      <td>20</td>\n",
       "      <td>38</td>\n",
       "      <td>1.0</td>\n",
       "      <td>...</td>\n",
       "      <td>4.8</td>\n",
       "      <td>2</td>\n",
       "      <td>7</td>\n",
       "      <td>9</td>\n",
       "      <td>19</td>\n",
       "      <td>29</td>\n",
       "      <td>7.8</td>\n",
       "      <td>3.2</td>\n",
       "      <td>NaN</td>\n",
       "      <td>NaN</td>\n",
       "    </tr>\n",
       "    <tr>\n",
       "      <th>379</th>\n",
       "      <td>Ternana Calcio</td>\n",
       "      <td>Fermana</td>\n",
       "      <td>2-1</td>\n",
       "      <td>https://www.besoccer.com/match/ternana-calcio/...</td>\n",
       "      <td>2000</td>\n",
       "      <td>38</td>\n",
       "      <td>serie_b</td>\n",
       "      <td>20</td>\n",
       "      <td>38</td>\n",
       "      <td>0.0</td>\n",
       "      <td>...</td>\n",
       "      <td>1.2</td>\n",
       "      <td>0</td>\n",
       "      <td>5</td>\n",
       "      <td>13</td>\n",
       "      <td>13</td>\n",
       "      <td>39</td>\n",
       "      <td>5.8</td>\n",
       "      <td>0.4</td>\n",
       "      <td>NaN</td>\n",
       "      <td>NaN</td>\n",
       "    </tr>\n",
       "  </tbody>\n",
       "</table>\n",
       "<p>146487 rows × 42 columns</p>\n",
       "</div>"
      ],
      "text/plain": [
       "             Home_Team         Away_Team Result  \\\n",
       "0      Birmingham City            Fulham    2-2   \n",
       "1     Blackburn Rovers         Port Vale    0-0   \n",
       "2    Charlton Athletic          Barnsley    3-1   \n",
       "3       Crystal Palace   Crewe Alexandra    1-1   \n",
       "4         Grimsby Town  Stockport County    0-1   \n",
       "..                 ...               ...    ...   \n",
       "375          Sampdoria        AlzanoCene    3-2   \n",
       "376           Vicenza     FC Savoia 1908    3-2   \n",
       "377     Cosenza Calcio           Brescia    2-2   \n",
       "378            Pescara          AC Monza    3-3   \n",
       "379     Ternana Calcio           Fermana    2-1   \n",
       "\n",
       "                                                  Link  Season  Round  \\\n",
       "0    https://www.besoccer.com/match/birmingham-city...    2000      1   \n",
       "1    https://www.besoccer.com/match/blackburn-rover...    2000      1   \n",
       "2    https://www.besoccer.com/match/charlton-athlet...    2000      1   \n",
       "3    https://www.besoccer.com/match/crystal-palace-...    2000      1   \n",
       "4    https://www.besoccer.com/match/grimsby-town/st...    2000      1   \n",
       "..                                                 ...     ...    ...   \n",
       "375  https://www.besoccer.com/match/sampdoria/alzan...    2000     38   \n",
       "376  https://www.besoccer.com/match/vicenza-calcio/...    2000     38   \n",
       "377  https://www.besoccer.com/match/fortitudo-cosen...    2000     38   \n",
       "378  https://www.besoccer.com/match/pescara-calcio/...    2000     38   \n",
       "379  https://www.besoccer.com/match/ternana-calcio/...    2000     38   \n",
       "\n",
       "           League  Number_Teams  Total_Rounds  Label  ...  Total_Streak_Away  \\\n",
       "0    championship            24            46    1.0  ...                0.0   \n",
       "1    championship            24            46    1.0  ...                0.0   \n",
       "2    championship            24            46    0.0  ...                0.0   \n",
       "3    championship            24            46    1.0  ...                0.0   \n",
       "4    championship            24            46    2.0  ...                0.0   \n",
       "..            ...           ...           ...    ...  ...                ...   \n",
       "375       serie_b            20            38    0.0  ...                3.8   \n",
       "376       serie_b            20            38    0.0  ...                0.0   \n",
       "377       serie_b            20            38    1.0  ...                5.4   \n",
       "378       serie_b            20            38    1.0  ...                4.8   \n",
       "379       serie_b            20            38    0.0  ...                1.2   \n",
       "\n",
       "     Wins_When_Away  Draw_When_Away  Lose_When_Away  Goals_For_When_Away  \\\n",
       "0                 0               0               0                    0   \n",
       "1                 0               0               0                    0   \n",
       "2                 0               0               0                    0   \n",
       "3                 0               0               0                    0   \n",
       "4                 0               0               0                    0   \n",
       "..              ...             ...             ...                  ...   \n",
       "375               1               7              10                   10   \n",
       "376               1               3              14                   14   \n",
       "377               5               9               4                   21   \n",
       "378               2               7               9                   19   \n",
       "379               0               5              13                   13   \n",
       "\n",
       "     Goals_Against_When_Away  Streak_When_Home  Streak_When_Away  Elo_Home  \\\n",
       "0                          0               0.0               0.0      58.0   \n",
       "1                          0               0.0               0.0      69.0   \n",
       "2                          0               0.0               0.0      59.0   \n",
       "3                          0               0.0               0.0      61.0   \n",
       "4                          0               0.0               0.0      53.0   \n",
       "..                       ...               ...               ...       ...   \n",
       "375                       23               7.2               0.6       NaN   \n",
       "376                       38               9.0               1.0       NaN   \n",
       "377                       24               7.8               1.4       NaN   \n",
       "378                       29               7.8               3.2       NaN   \n",
       "379                       39               5.8               0.4       NaN   \n",
       "\n",
       "     Elo_Away  \n",
       "0        48.0  \n",
       "1        53.0  \n",
       "2        58.0  \n",
       "3        46.0  \n",
       "4        54.0  \n",
       "..        ...  \n",
       "375       NaN  \n",
       "376       NaN  \n",
       "377       NaN  \n",
       "378       NaN  \n",
       "379       NaN  \n",
       "\n",
       "[146487 rows x 42 columns]"
      ]
     },
     "execution_count": 3,
     "metadata": {},
     "output_type": "execute_result"
    }
   ],
   "source": [
    "combined_csv"
   ]
  },
  {
   "cell_type": "code",
   "execution_count": 4,
   "id": "a259fe2e",
   "metadata": {
    "ExecuteTime": {
     "end_time": "2021-11-10T19:12:22.312451Z",
     "start_time": "2021-11-10T19:12:22.308168Z"
    }
   },
   "outputs": [
    {
     "data": {
      "text/plain": [
       "Index(['Home_Team', 'Away_Team', 'Result', 'Link', 'Season', 'Round', 'League',\n",
       "       'Number_Teams', 'Total_Rounds', 'Label', 'Goals_For_Home',\n",
       "       'Goals_For_Away', 'Position_Home', 'Points_Home', 'Total_Wins_Home',\n",
       "       'Total_Draw_Home', 'Total_Lose_Home', 'Total_Goals_For_Home_Team',\n",
       "       'Total_Goals_Against_Home_Team', 'Total_Streak_Home', 'Wins_When_Home',\n",
       "       'Draw_When_Home', 'Lose_When_Home', 'Goals_For_When_Home',\n",
       "       'Goals_Against_When_Home', 'Position_Away', 'Points_Away',\n",
       "       'Total_Wins_Away', 'Total_Draw_Away', 'Total_Lose_Away',\n",
       "       'Total_Goals_For_Away_Team', 'Total_Goals_Against_Away_Team',\n",
       "       'Total_Streak_Away', 'Wins_When_Away', 'Draw_When_Away',\n",
       "       'Lose_When_Away', 'Goals_For_When_Away', 'Goals_Against_When_Away',\n",
       "       'Streak_When_Home', 'Streak_When_Away', 'Elo_Home', 'Elo_Away'],\n",
       "      dtype='object')"
      ]
     },
     "execution_count": 4,
     "metadata": {},
     "output_type": "execute_result"
    }
   ],
   "source": [
    "combined_csv.columns"
   ]
  },
  {
   "cell_type": "code",
   "execution_count": 5,
   "id": "6b9ec5f8",
   "metadata": {
    "ExecuteTime": {
     "end_time": "2021-11-10T19:12:22.317721Z",
     "start_time": "2021-11-10T19:12:22.314078Z"
    }
   },
   "outputs": [],
   "source": [
    "features = ['Goals_For_Home',\n",
    "       'Goals_For_Away', 'Position_Home', 'Points_Home', 'Total_Wins_Home',\n",
    "       'Total_Draw_Home', 'Total_Lose_Home', 'Total_Goals_For_Home_Team',\n",
    "       'Total_Goals_Against_Home_Team', 'Total_Streak_Home', 'Wins_When_Home',\n",
    "       'Draw_When_Home', 'Lose_When_Home', 'Goals_For_When_Home',\n",
    "       'Goals_Against_When_Home', 'Position_Away', 'Points_Away',\n",
    "       'Total_Wins_Away', 'Total_Draw_Away', 'Total_Lose_Away',\n",
    "       'Total_Goals_For_Away_Team', 'Total_Goals_Against_Away_Team',\n",
    "       'Total_Streak_Away', 'Wins_When_Away', 'Draw_When_Away',\n",
    "       'Lose_When_Away', 'Goals_For_When_Away', 'Goals_Against_When_Away',\n",
    "       'Streak_When_Home', 'Streak_When_Away',]"
   ]
  },
  {
   "cell_type": "code",
   "execution_count": 6,
   "id": "508f1973",
   "metadata": {
    "ExecuteTime": {
     "end_time": "2021-11-10T19:12:22.465707Z",
     "start_time": "2021-11-10T19:12:22.319297Z"
    }
   },
   "outputs": [
    {
     "data": {
      "text/html": [
       "<div>\n",
       "<style scoped>\n",
       "    .dataframe tbody tr th:only-of-type {\n",
       "        vertical-align: middle;\n",
       "    }\n",
       "\n",
       "    .dataframe tbody tr th {\n",
       "        vertical-align: top;\n",
       "    }\n",
       "\n",
       "    .dataframe thead th {\n",
       "        text-align: right;\n",
       "    }\n",
       "</style>\n",
       "<table border=\"1\" class=\"dataframe\">\n",
       "  <thead>\n",
       "    <tr style=\"text-align: right;\">\n",
       "      <th></th>\n",
       "      <th>Goals_For_Home</th>\n",
       "      <th>Goals_For_Away</th>\n",
       "      <th>Position_Home</th>\n",
       "      <th>Points_Home</th>\n",
       "      <th>Total_Wins_Home</th>\n",
       "      <th>Total_Draw_Home</th>\n",
       "      <th>Total_Lose_Home</th>\n",
       "      <th>Total_Goals_For_Home_Team</th>\n",
       "      <th>Total_Goals_Against_Home_Team</th>\n",
       "      <th>Total_Streak_Home</th>\n",
       "      <th>...</th>\n",
       "      <th>Total_Goals_For_Away_Team</th>\n",
       "      <th>Total_Goals_Against_Away_Team</th>\n",
       "      <th>Total_Streak_Away</th>\n",
       "      <th>Wins_When_Away</th>\n",
       "      <th>Draw_When_Away</th>\n",
       "      <th>Lose_When_Away</th>\n",
       "      <th>Goals_For_When_Away</th>\n",
       "      <th>Goals_Against_When_Away</th>\n",
       "      <th>Streak_When_Home</th>\n",
       "      <th>Streak_When_Away</th>\n",
       "    </tr>\n",
       "  </thead>\n",
       "  <tbody>\n",
       "    <tr>\n",
       "      <th>0</th>\n",
       "      <td>2.0</td>\n",
       "      <td>2.0</td>\n",
       "      <td>0</td>\n",
       "      <td>0</td>\n",
       "      <td>0</td>\n",
       "      <td>0</td>\n",
       "      <td>0</td>\n",
       "      <td>0</td>\n",
       "      <td>0</td>\n",
       "      <td>0.0</td>\n",
       "      <td>...</td>\n",
       "      <td>0</td>\n",
       "      <td>0</td>\n",
       "      <td>0.0</td>\n",
       "      <td>0</td>\n",
       "      <td>0</td>\n",
       "      <td>0</td>\n",
       "      <td>0</td>\n",
       "      <td>0</td>\n",
       "      <td>0.0</td>\n",
       "      <td>0.0</td>\n",
       "    </tr>\n",
       "    <tr>\n",
       "      <th>1</th>\n",
       "      <td>0.0</td>\n",
       "      <td>0.0</td>\n",
       "      <td>0</td>\n",
       "      <td>0</td>\n",
       "      <td>0</td>\n",
       "      <td>0</td>\n",
       "      <td>0</td>\n",
       "      <td>0</td>\n",
       "      <td>0</td>\n",
       "      <td>0.0</td>\n",
       "      <td>...</td>\n",
       "      <td>0</td>\n",
       "      <td>0</td>\n",
       "      <td>0.0</td>\n",
       "      <td>0</td>\n",
       "      <td>0</td>\n",
       "      <td>0</td>\n",
       "      <td>0</td>\n",
       "      <td>0</td>\n",
       "      <td>0.0</td>\n",
       "      <td>0.0</td>\n",
       "    </tr>\n",
       "    <tr>\n",
       "      <th>2</th>\n",
       "      <td>3.0</td>\n",
       "      <td>1.0</td>\n",
       "      <td>0</td>\n",
       "      <td>0</td>\n",
       "      <td>0</td>\n",
       "      <td>0</td>\n",
       "      <td>0</td>\n",
       "      <td>0</td>\n",
       "      <td>0</td>\n",
       "      <td>0.0</td>\n",
       "      <td>...</td>\n",
       "      <td>0</td>\n",
       "      <td>0</td>\n",
       "      <td>0.0</td>\n",
       "      <td>0</td>\n",
       "      <td>0</td>\n",
       "      <td>0</td>\n",
       "      <td>0</td>\n",
       "      <td>0</td>\n",
       "      <td>0.0</td>\n",
       "      <td>0.0</td>\n",
       "    </tr>\n",
       "    <tr>\n",
       "      <th>3</th>\n",
       "      <td>1.0</td>\n",
       "      <td>1.0</td>\n",
       "      <td>0</td>\n",
       "      <td>0</td>\n",
       "      <td>0</td>\n",
       "      <td>0</td>\n",
       "      <td>0</td>\n",
       "      <td>0</td>\n",
       "      <td>0</td>\n",
       "      <td>0.0</td>\n",
       "      <td>...</td>\n",
       "      <td>0</td>\n",
       "      <td>0</td>\n",
       "      <td>0.0</td>\n",
       "      <td>0</td>\n",
       "      <td>0</td>\n",
       "      <td>0</td>\n",
       "      <td>0</td>\n",
       "      <td>0</td>\n",
       "      <td>0.0</td>\n",
       "      <td>0.0</td>\n",
       "    </tr>\n",
       "    <tr>\n",
       "      <th>4</th>\n",
       "      <td>0.0</td>\n",
       "      <td>1.0</td>\n",
       "      <td>0</td>\n",
       "      <td>0</td>\n",
       "      <td>0</td>\n",
       "      <td>0</td>\n",
       "      <td>0</td>\n",
       "      <td>0</td>\n",
       "      <td>0</td>\n",
       "      <td>0.0</td>\n",
       "      <td>...</td>\n",
       "      <td>0</td>\n",
       "      <td>0</td>\n",
       "      <td>0.0</td>\n",
       "      <td>0</td>\n",
       "      <td>0</td>\n",
       "      <td>0</td>\n",
       "      <td>0</td>\n",
       "      <td>0</td>\n",
       "      <td>0.0</td>\n",
       "      <td>0.0</td>\n",
       "    </tr>\n",
       "    <tr>\n",
       "      <th>...</th>\n",
       "      <td>...</td>\n",
       "      <td>...</td>\n",
       "      <td>...</td>\n",
       "      <td>...</td>\n",
       "      <td>...</td>\n",
       "      <td>...</td>\n",
       "      <td>...</td>\n",
       "      <td>...</td>\n",
       "      <td>...</td>\n",
       "      <td>...</td>\n",
       "      <td>...</td>\n",
       "      <td>...</td>\n",
       "      <td>...</td>\n",
       "      <td>...</td>\n",
       "      <td>...</td>\n",
       "      <td>...</td>\n",
       "      <td>...</td>\n",
       "      <td>...</td>\n",
       "      <td>...</td>\n",
       "      <td>...</td>\n",
       "      <td>...</td>\n",
       "    </tr>\n",
       "    <tr>\n",
       "      <th>375</th>\n",
       "      <td>3.0</td>\n",
       "      <td>2.0</td>\n",
       "      <td>5</td>\n",
       "      <td>59</td>\n",
       "      <td>16</td>\n",
       "      <td>11</td>\n",
       "      <td>10</td>\n",
       "      <td>42</td>\n",
       "      <td>38</td>\n",
       "      <td>7.8</td>\n",
       "      <td>...</td>\n",
       "      <td>37</td>\n",
       "      <td>48</td>\n",
       "      <td>3.8</td>\n",
       "      <td>1</td>\n",
       "      <td>7</td>\n",
       "      <td>10</td>\n",
       "      <td>10</td>\n",
       "      <td>23</td>\n",
       "      <td>7.2</td>\n",
       "      <td>0.6</td>\n",
       "    </tr>\n",
       "    <tr>\n",
       "      <th>376</th>\n",
       "      <td>3.0</td>\n",
       "      <td>2.0</td>\n",
       "      <td>1</td>\n",
       "      <td>64</td>\n",
       "      <td>19</td>\n",
       "      <td>7</td>\n",
       "      <td>11</td>\n",
       "      <td>66</td>\n",
       "      <td>43</td>\n",
       "      <td>4.2</td>\n",
       "      <td>...</td>\n",
       "      <td>34</td>\n",
       "      <td>59</td>\n",
       "      <td>0.0</td>\n",
       "      <td>1</td>\n",
       "      <td>3</td>\n",
       "      <td>14</td>\n",
       "      <td>14</td>\n",
       "      <td>38</td>\n",
       "      <td>9.0</td>\n",
       "      <td>1.0</td>\n",
       "    </tr>\n",
       "    <tr>\n",
       "      <th>377</th>\n",
       "      <td>2.0</td>\n",
       "      <td>2.0</td>\n",
       "      <td>11</td>\n",
       "      <td>47</td>\n",
       "      <td>11</td>\n",
       "      <td>14</td>\n",
       "      <td>12</td>\n",
       "      <td>34</td>\n",
       "      <td>39</td>\n",
       "      <td>4.6</td>\n",
       "      <td>...</td>\n",
       "      <td>52</td>\n",
       "      <td>36</td>\n",
       "      <td>5.4</td>\n",
       "      <td>5</td>\n",
       "      <td>9</td>\n",
       "      <td>4</td>\n",
       "      <td>21</td>\n",
       "      <td>24</td>\n",
       "      <td>7.8</td>\n",
       "      <td>1.4</td>\n",
       "    </tr>\n",
       "    <tr>\n",
       "      <th>378</th>\n",
       "      <td>3.0</td>\n",
       "      <td>3.0</td>\n",
       "      <td>16</td>\n",
       "      <td>46</td>\n",
       "      <td>10</td>\n",
       "      <td>16</td>\n",
       "      <td>11</td>\n",
       "      <td>59</td>\n",
       "      <td>52</td>\n",
       "      <td>3.6</td>\n",
       "      <td>...</td>\n",
       "      <td>42</td>\n",
       "      <td>43</td>\n",
       "      <td>4.8</td>\n",
       "      <td>2</td>\n",
       "      <td>7</td>\n",
       "      <td>9</td>\n",
       "      <td>19</td>\n",
       "      <td>29</td>\n",
       "      <td>7.8</td>\n",
       "      <td>3.2</td>\n",
       "    </tr>\n",
       "    <tr>\n",
       "      <th>379</th>\n",
       "      <td>2.0</td>\n",
       "      <td>1.0</td>\n",
       "      <td>14</td>\n",
       "      <td>46</td>\n",
       "      <td>10</td>\n",
       "      <td>16</td>\n",
       "      <td>11</td>\n",
       "      <td>43</td>\n",
       "      <td>46</td>\n",
       "      <td>5.0</td>\n",
       "      <td>...</td>\n",
       "      <td>35</td>\n",
       "      <td>64</td>\n",
       "      <td>1.2</td>\n",
       "      <td>0</td>\n",
       "      <td>5</td>\n",
       "      <td>13</td>\n",
       "      <td>13</td>\n",
       "      <td>39</td>\n",
       "      <td>5.8</td>\n",
       "      <td>0.4</td>\n",
       "    </tr>\n",
       "  </tbody>\n",
       "</table>\n",
       "<p>146487 rows × 30 columns</p>\n",
       "</div>"
      ],
      "text/plain": [
       "     Goals_For_Home  Goals_For_Away  Position_Home  Points_Home  \\\n",
       "0               2.0             2.0              0            0   \n",
       "1               0.0             0.0              0            0   \n",
       "2               3.0             1.0              0            0   \n",
       "3               1.0             1.0              0            0   \n",
       "4               0.0             1.0              0            0   \n",
       "..              ...             ...            ...          ...   \n",
       "375             3.0             2.0              5           59   \n",
       "376             3.0             2.0              1           64   \n",
       "377             2.0             2.0             11           47   \n",
       "378             3.0             3.0             16           46   \n",
       "379             2.0             1.0             14           46   \n",
       "\n",
       "     Total_Wins_Home  Total_Draw_Home  Total_Lose_Home  \\\n",
       "0                  0                0                0   \n",
       "1                  0                0                0   \n",
       "2                  0                0                0   \n",
       "3                  0                0                0   \n",
       "4                  0                0                0   \n",
       "..               ...              ...              ...   \n",
       "375               16               11               10   \n",
       "376               19                7               11   \n",
       "377               11               14               12   \n",
       "378               10               16               11   \n",
       "379               10               16               11   \n",
       "\n",
       "     Total_Goals_For_Home_Team  Total_Goals_Against_Home_Team  \\\n",
       "0                            0                              0   \n",
       "1                            0                              0   \n",
       "2                            0                              0   \n",
       "3                            0                              0   \n",
       "4                            0                              0   \n",
       "..                         ...                            ...   \n",
       "375                         42                             38   \n",
       "376                         66                             43   \n",
       "377                         34                             39   \n",
       "378                         59                             52   \n",
       "379                         43                             46   \n",
       "\n",
       "     Total_Streak_Home  ...  Total_Goals_For_Away_Team  \\\n",
       "0                  0.0  ...                          0   \n",
       "1                  0.0  ...                          0   \n",
       "2                  0.0  ...                          0   \n",
       "3                  0.0  ...                          0   \n",
       "4                  0.0  ...                          0   \n",
       "..                 ...  ...                        ...   \n",
       "375                7.8  ...                         37   \n",
       "376                4.2  ...                         34   \n",
       "377                4.6  ...                         52   \n",
       "378                3.6  ...                         42   \n",
       "379                5.0  ...                         35   \n",
       "\n",
       "     Total_Goals_Against_Away_Team  Total_Streak_Away  Wins_When_Away  \\\n",
       "0                                0                0.0               0   \n",
       "1                                0                0.0               0   \n",
       "2                                0                0.0               0   \n",
       "3                                0                0.0               0   \n",
       "4                                0                0.0               0   \n",
       "..                             ...                ...             ...   \n",
       "375                             48                3.8               1   \n",
       "376                             59                0.0               1   \n",
       "377                             36                5.4               5   \n",
       "378                             43                4.8               2   \n",
       "379                             64                1.2               0   \n",
       "\n",
       "     Draw_When_Away  Lose_When_Away  Goals_For_When_Away  \\\n",
       "0                 0               0                    0   \n",
       "1                 0               0                    0   \n",
       "2                 0               0                    0   \n",
       "3                 0               0                    0   \n",
       "4                 0               0                    0   \n",
       "..              ...             ...                  ...   \n",
       "375               7              10                   10   \n",
       "376               3              14                   14   \n",
       "377               9               4                   21   \n",
       "378               7               9                   19   \n",
       "379               5              13                   13   \n",
       "\n",
       "     Goals_Against_When_Away  Streak_When_Home  Streak_When_Away  \n",
       "0                          0               0.0               0.0  \n",
       "1                          0               0.0               0.0  \n",
       "2                          0               0.0               0.0  \n",
       "3                          0               0.0               0.0  \n",
       "4                          0               0.0               0.0  \n",
       "..                       ...               ...               ...  \n",
       "375                       23               7.2               0.6  \n",
       "376                       38               9.0               1.0  \n",
       "377                       24               7.8               1.4  \n",
       "378                       29               7.8               3.2  \n",
       "379                       39               5.8               0.4  \n",
       "\n",
       "[146487 rows x 30 columns]"
      ]
     },
     "execution_count": 6,
     "metadata": {},
     "output_type": "execute_result"
    }
   ],
   "source": [
    "combined_csv[features]"
   ]
  },
  {
   "cell_type": "code",
   "execution_count": 7,
   "id": "b9f90d10",
   "metadata": {
    "ExecuteTime": {
     "end_time": "2021-11-10T19:12:28.503134Z",
     "start_time": "2021-11-10T19:12:22.467661Z"
    }
   },
   "outputs": [],
   "source": [
    "def eval_result(result:str):\n",
    "    result_list = result.split(\"-\")\n",
    "    try:\n",
    "        return int(result_list[0])-int(result_list[1])\n",
    "    except:\n",
    "        return \"Unknown\"\n",
    "    \n",
    "differenceList = []\n",
    "for index, row in combined_csv.iterrows():\n",
    "    result = row['Result']\n",
    "    difference=eval_result(result=result)\n",
    "    differenceList.append(difference)\n",
    "    \n",
    "combined_csv['difference'] = differenceList"
   ]
  },
  {
   "cell_type": "code",
   "execution_count": 8,
   "id": "fd8e8db8",
   "metadata": {
    "ExecuteTime": {
     "end_time": "2021-11-10T19:12:28.601123Z",
     "start_time": "2021-11-10T19:12:28.504577Z"
    }
   },
   "outputs": [],
   "source": [
    "X = np.array(combined_csv[features])\n",
    "y = np.array(combined_csv['difference'])"
   ]
  },
  {
   "cell_type": "code",
   "execution_count": 9,
   "id": "1531f7a9",
   "metadata": {
    "ExecuteTime": {
     "end_time": "2021-11-10T19:12:28.606648Z",
     "start_time": "2021-11-10T19:12:28.602849Z"
    }
   },
   "outputs": [
    {
     "data": {
      "text/plain": [
       "(146487, 30)"
      ]
     },
     "execution_count": 9,
     "metadata": {},
     "output_type": "execute_result"
    }
   ],
   "source": [
    "X.shape"
   ]
  },
  {
   "cell_type": "code",
   "execution_count": 10,
   "id": "e4a7508c",
   "metadata": {
    "ExecuteTime": {
     "end_time": "2021-11-10T19:12:28.615049Z",
     "start_time": "2021-11-10T19:12:28.611614Z"
    }
   },
   "outputs": [
    {
     "data": {
      "text/plain": [
       "(146487,)"
      ]
     },
     "execution_count": 10,
     "metadata": {},
     "output_type": "execute_result"
    }
   ],
   "source": [
    "y.shape"
   ]
  },
  {
   "cell_type": "code",
   "execution_count": 11,
   "id": "0fda3f00",
   "metadata": {
    "ExecuteTime": {
     "end_time": "2021-11-10T19:12:28.679047Z",
     "start_time": "2021-11-10T19:12:28.616812Z"
    }
   },
   "outputs": [],
   "source": [
    "X_train, X_test, y_train, y_test = train_test_split(X, y, test_size=0.2, random_state=4)"
   ]
  },
  {
   "cell_type": "code",
   "execution_count": 12,
   "id": "84998f57",
   "metadata": {
    "ExecuteTime": {
     "end_time": "2021-11-10T19:12:28.810691Z",
     "start_time": "2021-11-10T19:12:28.680801Z"
    }
   },
   "outputs": [
    {
     "data": {
      "text/plain": [
       "LinearRegression()"
      ]
     },
     "execution_count": 12,
     "metadata": {},
     "output_type": "execute_result"
    }
   ],
   "source": [
    "model = LinearRegression()\n",
    "model.fit(X_train, y_train)"
   ]
  },
  {
   "cell_type": "code",
   "execution_count": 13,
   "id": "9190b26e",
   "metadata": {
    "ExecuteTime": {
     "end_time": "2021-11-10T19:12:28.817752Z",
     "start_time": "2021-11-10T19:12:28.812658Z"
    }
   },
   "outputs": [
    {
     "name": "stdout",
     "output_type": "stream",
     "text": [
      "[ 1.00000000e+00 -1.00000000e+00  5.06773898e-17 -1.24667754e-14\n",
      "  3.86209596e-14  1.31957930e-14  2.10412789e-16 -2.36697697e-16\n",
      "  6.04305127e-17 -1.42992227e-16 -9.55123617e-16 -7.66265855e-16\n",
      " -5.34970882e-16  7.96177647e-17 -2.38670947e-17 -3.49472719e-16\n",
      " -2.00904076e-15  5.70377079e-15  1.91513472e-15  0.00000000e+00\n",
      " -5.55111512e-17 -2.22044605e-16 -1.87350135e-16  1.01307851e-15\n",
      "  9.57567359e-16  3.74700271e-16 -2.91433544e-16  1.11022302e-16\n",
      " -8.32667268e-17 -5.55111512e-17] 4.6074255521944e-15\n"
     ]
    }
   ],
   "source": [
    "b = model.intercept_\n",
    "m = model.coef_\n",
    "print(m, b)"
   ]
  },
  {
   "cell_type": "code",
   "execution_count": 14,
   "id": "d2cbd36e",
   "metadata": {
    "ExecuteTime": {
     "end_time": "2021-11-10T19:12:28.840874Z",
     "start_time": "2021-11-10T19:12:28.820189Z"
    }
   },
   "outputs": [
    {
     "data": {
      "text/plain": [
       "1.0"
      ]
     },
     "execution_count": 14,
     "metadata": {},
     "output_type": "execute_result"
    }
   ],
   "source": [
    "#r squred value. the closer to one the better\n",
    "model.score(X_train, y_train)"
   ]
  },
  {
   "cell_type": "markdown",
   "id": "65c2057f",
   "metadata": {},
   "source": [
    "At least we know that the model works... This feature set includes Goals for Home and Goals for Away which respectively have a weighting of 1 and -1 for the end result of Goal Difference. Now to do the same but remove these features."
   ]
  },
  {
   "cell_type": "code",
   "execution_count": 15,
   "id": "b9514db1",
   "metadata": {
    "ExecuteTime": {
     "end_time": "2021-11-10T19:12:28.847658Z",
     "start_time": "2021-11-10T19:12:28.843389Z"
    }
   },
   "outputs": [],
   "source": [
    "features = ['Position_Home', 'Points_Home', 'Total_Wins_Home',\n",
    "       'Total_Draw_Home', 'Total_Lose_Home', 'Total_Goals_For_Home_Team',\n",
    "       'Total_Goals_Against_Home_Team', 'Total_Streak_Home', 'Wins_When_Home',\n",
    "       'Draw_When_Home', 'Lose_When_Home', 'Goals_For_When_Home',\n",
    "       'Goals_Against_When_Home', 'Position_Away', 'Points_Away',\n",
    "       'Total_Wins_Away', 'Total_Draw_Away', 'Total_Lose_Away',\n",
    "       'Total_Goals_For_Away_Team', 'Total_Goals_Against_Away_Team',\n",
    "       'Total_Streak_Away', 'Wins_When_Away', 'Draw_When_Away',\n",
    "       'Lose_When_Away', 'Goals_For_When_Away', 'Goals_Against_When_Away',\n",
    "       'Streak_When_Home', 'Streak_When_Away',]"
   ]
  },
  {
   "cell_type": "code",
   "execution_count": 16,
   "id": "885bfe1c",
   "metadata": {
    "ExecuteTime": {
     "end_time": "2021-11-10T19:12:28.885980Z",
     "start_time": "2021-11-10T19:12:28.849901Z"
    }
   },
   "outputs": [],
   "source": [
    "X = np.array(combined_csv[features])\n",
    "y = np.array(combined_csv['difference'])"
   ]
  },
  {
   "cell_type": "code",
   "execution_count": 17,
   "id": "433f5dd3",
   "metadata": {
    "ExecuteTime": {
     "end_time": "2021-11-10T19:12:28.953708Z",
     "start_time": "2021-11-10T19:12:28.888305Z"
    }
   },
   "outputs": [],
   "source": [
    "X_train, X_test, y_train, y_test = train_test_split(X, y, test_size=0.2, random_state=4)"
   ]
  },
  {
   "cell_type": "code",
   "execution_count": 18,
   "id": "3e62d03e",
   "metadata": {
    "ExecuteTime": {
     "end_time": "2021-11-10T19:12:29.075487Z",
     "start_time": "2021-11-10T19:12:28.955698Z"
    }
   },
   "outputs": [
    {
     "data": {
      "text/plain": [
       "LinearRegression()"
      ]
     },
     "execution_count": 18,
     "metadata": {},
     "output_type": "execute_result"
    }
   ],
   "source": [
    "model = LinearRegression()\n",
    "model.fit(X_train, y_train)"
   ]
  },
  {
   "cell_type": "code",
   "execution_count": 19,
   "id": "8b994792",
   "metadata": {
    "ExecuteTime": {
     "end_time": "2021-11-10T19:12:29.081743Z",
     "start_time": "2021-11-10T19:12:29.077971Z"
    }
   },
   "outputs": [
    {
     "name": "stdout",
     "output_type": "stream",
     "text": [
      "[-0.0169137  -0.00777828 -0.00564078  0.00914408  0.02304197  0.03266904\n",
      " -0.02295493  0.03266082 -0.01339504 -0.01252053 -0.02369427 -0.00627958\n",
      "  0.00114657  0.01447244  0.0103409   0.00356592 -0.00035685 -0.01213202\n",
      " -0.03000784  0.02753704 -0.01808117 -0.00969982 -0.01411911 -0.00126563\n",
      "  0.00655419 -0.00856458  0.03724002 -0.05610376] 0.40417084269616227\n"
     ]
    }
   ],
   "source": [
    "b = model.intercept_\n",
    "m = model.coef_\n",
    "print(m, b)"
   ]
  },
  {
   "cell_type": "code",
   "execution_count": 20,
   "id": "c87cf68c",
   "metadata": {
    "ExecuteTime": {
     "end_time": "2021-11-10T19:12:29.093827Z",
     "start_time": "2021-11-10T19:12:29.083568Z"
    }
   },
   "outputs": [
    {
     "data": {
      "text/plain": [
       "0.1658780890813737"
      ]
     },
     "execution_count": 20,
     "metadata": {},
     "output_type": "execute_result"
    }
   ],
   "source": [
    "model.score(X_train, y_train)"
   ]
  },
  {
   "cell_type": "markdown",
   "id": "d77fee80",
   "metadata": {},
   "source": [
    "Assessing the features and their weights, as determined by the model."
   ]
  },
  {
   "cell_type": "code",
   "execution_count": 21,
   "id": "81d9027d",
   "metadata": {
    "ExecuteTime": {
     "end_time": "2021-11-10T19:12:29.099557Z",
     "start_time": "2021-11-10T19:12:29.096207Z"
    }
   },
   "outputs": [],
   "source": [
    "weights = list(zip(features, m**2))"
   ]
  },
  {
   "cell_type": "code",
   "execution_count": 22,
   "id": "df130657",
   "metadata": {
    "ExecuteTime": {
     "end_time": "2021-11-10T19:12:29.106784Z",
     "start_time": "2021-11-10T19:12:29.102120Z"
    }
   },
   "outputs": [],
   "source": [
    "weights_df = df = pd.DataFrame(weights, columns = ['Feature', 'Weight_sq'])"
   ]
  },
  {
   "cell_type": "code",
   "execution_count": 23,
   "id": "feacc5b8",
   "metadata": {
    "ExecuteTime": {
     "end_time": "2021-11-10T19:12:29.122639Z",
     "start_time": "2021-11-10T19:12:29.109414Z"
    }
   },
   "outputs": [
    {
     "data": {
      "text/html": [
       "<div>\n",
       "<style scoped>\n",
       "    .dataframe tbody tr th:only-of-type {\n",
       "        vertical-align: middle;\n",
       "    }\n",
       "\n",
       "    .dataframe tbody tr th {\n",
       "        vertical-align: top;\n",
       "    }\n",
       "\n",
       "    .dataframe thead th {\n",
       "        text-align: right;\n",
       "    }\n",
       "</style>\n",
       "<table border=\"1\" class=\"dataframe\">\n",
       "  <thead>\n",
       "    <tr style=\"text-align: right;\">\n",
       "      <th></th>\n",
       "      <th>Feature</th>\n",
       "      <th>Weight_sq</th>\n",
       "    </tr>\n",
       "  </thead>\n",
       "  <tbody>\n",
       "    <tr>\n",
       "      <th>16</th>\n",
       "      <td>Total_Draw_Away</td>\n",
       "      <td>1.273437e-07</td>\n",
       "    </tr>\n",
       "    <tr>\n",
       "      <th>12</th>\n",
       "      <td>Goals_Against_When_Home</td>\n",
       "      <td>1.314619e-06</td>\n",
       "    </tr>\n",
       "    <tr>\n",
       "      <th>23</th>\n",
       "      <td>Lose_When_Away</td>\n",
       "      <td>1.601831e-06</td>\n",
       "    </tr>\n",
       "    <tr>\n",
       "      <th>15</th>\n",
       "      <td>Total_Wins_Away</td>\n",
       "      <td>1.271578e-05</td>\n",
       "    </tr>\n",
       "    <tr>\n",
       "      <th>2</th>\n",
       "      <td>Total_Wins_Home</td>\n",
       "      <td>3.181845e-05</td>\n",
       "    </tr>\n",
       "    <tr>\n",
       "      <th>11</th>\n",
       "      <td>Goals_For_When_Home</td>\n",
       "      <td>3.943308e-05</td>\n",
       "    </tr>\n",
       "    <tr>\n",
       "      <th>24</th>\n",
       "      <td>Goals_For_When_Away</td>\n",
       "      <td>4.295747e-05</td>\n",
       "    </tr>\n",
       "    <tr>\n",
       "      <th>1</th>\n",
       "      <td>Points_Home</td>\n",
       "      <td>6.050163e-05</td>\n",
       "    </tr>\n",
       "    <tr>\n",
       "      <th>25</th>\n",
       "      <td>Goals_Against_When_Away</td>\n",
       "      <td>7.335195e-05</td>\n",
       "    </tr>\n",
       "    <tr>\n",
       "      <th>3</th>\n",
       "      <td>Total_Draw_Home</td>\n",
       "      <td>8.361411e-05</td>\n",
       "    </tr>\n",
       "    <tr>\n",
       "      <th>21</th>\n",
       "      <td>Wins_When_Away</td>\n",
       "      <td>9.408645e-05</td>\n",
       "    </tr>\n",
       "    <tr>\n",
       "      <th>14</th>\n",
       "      <td>Points_Away</td>\n",
       "      <td>1.069343e-04</td>\n",
       "    </tr>\n",
       "    <tr>\n",
       "      <th>17</th>\n",
       "      <td>Total_Lose_Away</td>\n",
       "      <td>1.471859e-04</td>\n",
       "    </tr>\n",
       "    <tr>\n",
       "      <th>9</th>\n",
       "      <td>Draw_When_Home</td>\n",
       "      <td>1.567638e-04</td>\n",
       "    </tr>\n",
       "    <tr>\n",
       "      <th>8</th>\n",
       "      <td>Wins_When_Home</td>\n",
       "      <td>1.794271e-04</td>\n",
       "    </tr>\n",
       "    <tr>\n",
       "      <th>22</th>\n",
       "      <td>Draw_When_Away</td>\n",
       "      <td>1.993493e-04</td>\n",
       "    </tr>\n",
       "    <tr>\n",
       "      <th>13</th>\n",
       "      <td>Position_Away</td>\n",
       "      <td>2.094516e-04</td>\n",
       "    </tr>\n",
       "    <tr>\n",
       "      <th>0</th>\n",
       "      <td>Position_Home</td>\n",
       "      <td>2.860732e-04</td>\n",
       "    </tr>\n",
       "    <tr>\n",
       "      <th>20</th>\n",
       "      <td>Total_Streak_Away</td>\n",
       "      <td>3.269288e-04</td>\n",
       "    </tr>\n",
       "    <tr>\n",
       "      <th>6</th>\n",
       "      <td>Total_Goals_Against_Home_Team</td>\n",
       "      <td>5.269290e-04</td>\n",
       "    </tr>\n",
       "    <tr>\n",
       "      <th>4</th>\n",
       "      <td>Total_Lose_Home</td>\n",
       "      <td>5.309323e-04</td>\n",
       "    </tr>\n",
       "    <tr>\n",
       "      <th>10</th>\n",
       "      <td>Lose_When_Home</td>\n",
       "      <td>5.614184e-04</td>\n",
       "    </tr>\n",
       "    <tr>\n",
       "      <th>19</th>\n",
       "      <td>Total_Goals_Against_Away_Team</td>\n",
       "      <td>7.582887e-04</td>\n",
       "    </tr>\n",
       "    <tr>\n",
       "      <th>18</th>\n",
       "      <td>Total_Goals_For_Away_Team</td>\n",
       "      <td>9.004704e-04</td>\n",
       "    </tr>\n",
       "    <tr>\n",
       "      <th>7</th>\n",
       "      <td>Total_Streak_Home</td>\n",
       "      <td>1.066729e-03</td>\n",
       "    </tr>\n",
       "    <tr>\n",
       "      <th>5</th>\n",
       "      <td>Total_Goals_For_Home_Team</td>\n",
       "      <td>1.067267e-03</td>\n",
       "    </tr>\n",
       "    <tr>\n",
       "      <th>26</th>\n",
       "      <td>Streak_When_Home</td>\n",
       "      <td>1.386819e-03</td>\n",
       "    </tr>\n",
       "    <tr>\n",
       "      <th>27</th>\n",
       "      <td>Streak_When_Away</td>\n",
       "      <td>3.147632e-03</td>\n",
       "    </tr>\n",
       "  </tbody>\n",
       "</table>\n",
       "</div>"
      ],
      "text/plain": [
       "                          Feature     Weight_sq\n",
       "16                Total_Draw_Away  1.273437e-07\n",
       "12        Goals_Against_When_Home  1.314619e-06\n",
       "23                 Lose_When_Away  1.601831e-06\n",
       "15                Total_Wins_Away  1.271578e-05\n",
       "2                 Total_Wins_Home  3.181845e-05\n",
       "11            Goals_For_When_Home  3.943308e-05\n",
       "24            Goals_For_When_Away  4.295747e-05\n",
       "1                     Points_Home  6.050163e-05\n",
       "25        Goals_Against_When_Away  7.335195e-05\n",
       "3                 Total_Draw_Home  8.361411e-05\n",
       "21                 Wins_When_Away  9.408645e-05\n",
       "14                    Points_Away  1.069343e-04\n",
       "17                Total_Lose_Away  1.471859e-04\n",
       "9                  Draw_When_Home  1.567638e-04\n",
       "8                  Wins_When_Home  1.794271e-04\n",
       "22                 Draw_When_Away  1.993493e-04\n",
       "13                  Position_Away  2.094516e-04\n",
       "0                   Position_Home  2.860732e-04\n",
       "20              Total_Streak_Away  3.269288e-04\n",
       "6   Total_Goals_Against_Home_Team  5.269290e-04\n",
       "4                 Total_Lose_Home  5.309323e-04\n",
       "10                 Lose_When_Home  5.614184e-04\n",
       "19  Total_Goals_Against_Away_Team  7.582887e-04\n",
       "18      Total_Goals_For_Away_Team  9.004704e-04\n",
       "7               Total_Streak_Home  1.066729e-03\n",
       "5       Total_Goals_For_Home_Team  1.067267e-03\n",
       "26               Streak_When_Home  1.386819e-03\n",
       "27               Streak_When_Away  3.147632e-03"
      ]
     },
     "execution_count": 23,
     "metadata": {},
     "output_type": "execute_result"
    }
   ],
   "source": [
    "weights_df.sort_values(by=['Weight_sq'])"
   ]
  },
  {
   "cell_type": "markdown",
   "id": "453a9c0d",
   "metadata": {
    "ExecuteTime": {
     "end_time": "2021-11-01T20:05:32.430778Z",
     "start_time": "2021-11-01T20:05:32.426779Z"
    }
   },
   "source": [
    "Let us try to normalize the data beforehand and view the results."
   ]
  },
  {
   "cell_type": "code",
   "execution_count": 24,
   "id": "897d7f39",
   "metadata": {
    "ExecuteTime": {
     "end_time": "2021-11-10T19:12:29.148881Z",
     "start_time": "2021-11-10T19:12:29.124980Z"
    }
   },
   "outputs": [],
   "source": [
    "from sklearn import preprocessing\n",
    "X_normalized = preprocessing.normalize(X, axis=0)"
   ]
  },
  {
   "cell_type": "code",
   "execution_count": 25,
   "id": "4c95e55e",
   "metadata": {
    "ExecuteTime": {
     "end_time": "2021-11-10T19:12:29.156157Z",
     "start_time": "2021-11-10T19:12:29.151201Z"
    }
   },
   "outputs": [
    {
     "data": {
      "text/plain": [
       "array([[ 0. ,  0. ,  0. , ...,  0. ,  0. ,  0. ],\n",
       "       [ 0. ,  0. ,  0. , ...,  0. ,  0. ,  0. ],\n",
       "       [ 0. ,  0. ,  0. , ...,  0. ,  0. ,  0. ],\n",
       "       ...,\n",
       "       [11. , 47. , 11. , ..., 24. ,  7.8,  1.4],\n",
       "       [16. , 46. , 10. , ..., 29. ,  7.8,  3.2],\n",
       "       [14. , 46. , 10. , ..., 39. ,  5.8,  0.4]])"
      ]
     },
     "execution_count": 25,
     "metadata": {},
     "output_type": "execute_result"
    }
   ],
   "source": [
    "X"
   ]
  },
  {
   "cell_type": "code",
   "execution_count": 26,
   "id": "279f023b",
   "metadata": {
    "ExecuteTime": {
     "end_time": "2021-11-10T19:12:29.162408Z",
     "start_time": "2021-11-10T19:12:29.157902Z"
    }
   },
   "outputs": [
    {
     "data": {
      "text/plain": [
       "array([0.0048496 , 0.00389322, 0.00384342, 0.00293932, 0.00708718,\n",
       "       0.00505261, 0.00734015, 0.00165169, 0.00438664, 0.00222897,\n",
       "       0.00405521, 0.00524017, 0.00573972, 0.        , 0.        ,\n",
       "       0.        , 0.        , 0.        , 0.        , 0.        ,\n",
       "       0.        , 0.        , 0.        , 0.        , 0.        ,\n",
       "       0.        , 0.00287113, 0.        ])"
      ]
     },
     "execution_count": 26,
     "metadata": {},
     "output_type": "execute_result"
    }
   ],
   "source": [
    "X_normalized[1100]"
   ]
  },
  {
   "cell_type": "code",
   "execution_count": 27,
   "id": "127da0b3",
   "metadata": {
    "ExecuteTime": {
     "end_time": "2021-11-10T19:12:29.389796Z",
     "start_time": "2021-11-10T19:12:29.164526Z"
    }
   },
   "outputs": [
    {
     "name": "stdout",
     "output_type": "stream",
     "text": [
      "[-7.67283045e+01  3.11897299e+09 -2.62161847e+09 -7.03178741e+08\n",
      "  7.47783305e+01  3.68549394e+02 -2.50185374e+02  5.53678803e+01\n",
      " -3.35896169e+01 -2.24686525e+01 -4.09007008e+01 -4.79342939e+01\n",
      "  6.59230961e+00  6.39817218e+01  1.05686151e+10 -8.77877104e+09\n",
      " -2.44957007e+09 -4.03431164e+01 -3.23727079e+02  3.03487237e+02\n",
      " -3.10045863e+01 -1.66382937e+01 -2.50678226e+01 -3.13777751e+00\n",
      "  3.74034757e+01 -6.42861843e+01  7.26349837e+01 -7.57123484e+01] 0.40417632164785233\n"
     ]
    }
   ],
   "source": [
    "X_train, X_test, y_train, y_test = train_test_split(X_normalized, y, test_size=0.2, random_state=4)\n",
    "model = LinearRegression()\n",
    "model.fit(X_train, y_train)\n",
    "b = model.intercept_\n",
    "m = model.coef_\n",
    "print(m, b)"
   ]
  },
  {
   "cell_type": "code",
   "execution_count": 28,
   "id": "9a59ad23",
   "metadata": {
    "ExecuteTime": {
     "end_time": "2021-11-10T19:12:29.414119Z",
     "start_time": "2021-11-10T19:12:29.403321Z"
    }
   },
   "outputs": [
    {
     "data": {
      "text/plain": [
       "0.16587808904218093"
      ]
     },
     "execution_count": 28,
     "metadata": {},
     "output_type": "execute_result"
    }
   ],
   "source": [
    "model.score(X_train, y_train)"
   ]
  },
  {
   "cell_type": "code",
   "execution_count": 42,
   "id": "9e96e716",
   "metadata": {
    "ExecuteTime": {
     "end_time": "2021-11-10T19:24:01.981536Z",
     "start_time": "2021-11-10T19:24:01.976658Z"
    }
   },
   "outputs": [
    {
     "data": {
      "text/plain": [
       "0.33032971533893096"
      ]
     },
     "execution_count": 42,
     "metadata": {},
     "output_type": "execute_result"
    }
   ],
   "source": [
    "X_mod = np.round(model.predict(X_test))\n",
    "result_mod = X_mod - y_test\n",
    "len(result_mod[np.where(result_mod == 0)])/len(X_mod)\n"
   ]
  },
  {
   "cell_type": "code",
   "execution_count": 43,
   "id": "70ac9619",
   "metadata": {
    "ExecuteTime": {
     "end_time": "2021-11-10T19:24:02.950554Z",
     "start_time": "2021-11-10T19:24:02.931048Z"
    }
   },
   "outputs": [
    {
     "data": {
      "text/plain": [
       "0.33032971533893096"
      ]
     },
     "execution_count": 43,
     "metadata": {},
     "output_type": "execute_result"
    }
   ],
   "source": [
    "for i, num in enumerate(result_mod):\n",
    "    if num > 1:\n",
    "        result_mod[i] = 1\n",
    "    elif num < -1:\n",
    "        result_mod[i] = -1\n",
    "len(result_mod[np.where(result_mod == 0)])/len(X_mod)\n",
    "        "
   ]
  },
  {
   "cell_type": "code",
   "execution_count": 30,
   "id": "a20e61cd",
   "metadata": {
    "ExecuteTime": {
     "end_time": "2021-11-10T19:12:29.433878Z",
     "start_time": "2021-11-10T19:12:29.427179Z"
    }
   },
   "outputs": [
    {
     "data": {
      "text/plain": [
       "array([0.59824519, 0.59351662, 0.69781264, ..., 0.45592991, 0.62520075,\n",
       "       0.40417632])"
      ]
     },
     "execution_count": 30,
     "metadata": {},
     "output_type": "execute_result"
    }
   ],
   "source": [
    "model.predict(X_test)"
   ]
  },
  {
   "cell_type": "code",
   "execution_count": 31,
   "id": "fa13d859",
   "metadata": {
    "ExecuteTime": {
     "end_time": "2021-11-10T19:12:29.644518Z",
     "start_time": "2021-11-10T19:12:29.436586Z"
    }
   },
   "outputs": [
    {
     "ename": "ValueError",
     "evalue": "Expected 2D array, got 1D array instead:\narray=[1. 1. 1. ... 0. 1. 0.].\nReshape your data either using array.reshape(-1, 1) if your data has a single feature or array.reshape(1, -1) if it contains a single sample.",
     "output_type": "error",
     "traceback": [
      "\u001b[0;31m---------------------------------------------------------------------------\u001b[0m",
      "\u001b[0;31mValueError\u001b[0m                                Traceback (most recent call last)",
      "\u001b[0;32m/var/folders/dn/_ysfbs6s2vz_pmnp3hg_bkgc0000gn/T/ipykernel_49118/2779807420.py\u001b[0m in \u001b[0;36m<module>\u001b[0;34m\u001b[0m\n\u001b[0;32m----> 1\u001b[0;31m \u001b[0mmodel\u001b[0m\u001b[0;34m.\u001b[0m\u001b[0mscore\u001b[0m\u001b[0;34m(\u001b[0m\u001b[0mX_mod\u001b[0m\u001b[0;34m,\u001b[0m \u001b[0my_test\u001b[0m\u001b[0;34m)\u001b[0m\u001b[0;34m\u001b[0m\u001b[0;34m\u001b[0m\u001b[0m\n\u001b[0m",
      "\u001b[0;32m~/miniconda/envs/AiCore/lib/python3.9/site-packages/sklearn/base.py\u001b[0m in \u001b[0;36mscore\u001b[0;34m(self, X, y, sample_weight)\u001b[0m\n\u001b[1;32m    551\u001b[0m \u001b[0;34m\u001b[0m\u001b[0m\n\u001b[1;32m    552\u001b[0m         \u001b[0;32mfrom\u001b[0m \u001b[0;34m.\u001b[0m\u001b[0mmetrics\u001b[0m \u001b[0;32mimport\u001b[0m \u001b[0mr2_score\u001b[0m\u001b[0;34m\u001b[0m\u001b[0;34m\u001b[0m\u001b[0m\n\u001b[0;32m--> 553\u001b[0;31m         \u001b[0my_pred\u001b[0m \u001b[0;34m=\u001b[0m \u001b[0mself\u001b[0m\u001b[0;34m.\u001b[0m\u001b[0mpredict\u001b[0m\u001b[0;34m(\u001b[0m\u001b[0mX\u001b[0m\u001b[0;34m)\u001b[0m\u001b[0;34m\u001b[0m\u001b[0;34m\u001b[0m\u001b[0m\n\u001b[0m\u001b[1;32m    554\u001b[0m         \u001b[0;32mreturn\u001b[0m \u001b[0mr2_score\u001b[0m\u001b[0;34m(\u001b[0m\u001b[0my\u001b[0m\u001b[0;34m,\u001b[0m \u001b[0my_pred\u001b[0m\u001b[0;34m,\u001b[0m \u001b[0msample_weight\u001b[0m\u001b[0;34m=\u001b[0m\u001b[0msample_weight\u001b[0m\u001b[0;34m)\u001b[0m\u001b[0;34m\u001b[0m\u001b[0;34m\u001b[0m\u001b[0m\n\u001b[1;32m    555\u001b[0m \u001b[0;34m\u001b[0m\u001b[0m\n",
      "\u001b[0;32m~/miniconda/envs/AiCore/lib/python3.9/site-packages/sklearn/linear_model/_base.py\u001b[0m in \u001b[0;36mpredict\u001b[0;34m(self, X)\u001b[0m\n\u001b[1;32m    236\u001b[0m             \u001b[0mReturns\u001b[0m \u001b[0mpredicted\u001b[0m \u001b[0mvalues\u001b[0m\u001b[0;34m.\u001b[0m\u001b[0;34m\u001b[0m\u001b[0;34m\u001b[0m\u001b[0m\n\u001b[1;32m    237\u001b[0m         \"\"\"\n\u001b[0;32m--> 238\u001b[0;31m         \u001b[0;32mreturn\u001b[0m \u001b[0mself\u001b[0m\u001b[0;34m.\u001b[0m\u001b[0m_decision_function\u001b[0m\u001b[0;34m(\u001b[0m\u001b[0mX\u001b[0m\u001b[0;34m)\u001b[0m\u001b[0;34m\u001b[0m\u001b[0;34m\u001b[0m\u001b[0m\n\u001b[0m\u001b[1;32m    239\u001b[0m \u001b[0;34m\u001b[0m\u001b[0m\n\u001b[1;32m    240\u001b[0m     \u001b[0m_preprocess_data\u001b[0m \u001b[0;34m=\u001b[0m \u001b[0mstaticmethod\u001b[0m\u001b[0;34m(\u001b[0m\u001b[0m_preprocess_data\u001b[0m\u001b[0;34m)\u001b[0m\u001b[0;34m\u001b[0m\u001b[0;34m\u001b[0m\u001b[0m\n",
      "\u001b[0;32m~/miniconda/envs/AiCore/lib/python3.9/site-packages/sklearn/linear_model/_base.py\u001b[0m in \u001b[0;36m_decision_function\u001b[0;34m(self, X)\u001b[0m\n\u001b[1;32m    218\u001b[0m         \u001b[0mcheck_is_fitted\u001b[0m\u001b[0;34m(\u001b[0m\u001b[0mself\u001b[0m\u001b[0;34m)\u001b[0m\u001b[0;34m\u001b[0m\u001b[0;34m\u001b[0m\u001b[0m\n\u001b[1;32m    219\u001b[0m \u001b[0;34m\u001b[0m\u001b[0m\n\u001b[0;32m--> 220\u001b[0;31m         \u001b[0mX\u001b[0m \u001b[0;34m=\u001b[0m \u001b[0mcheck_array\u001b[0m\u001b[0;34m(\u001b[0m\u001b[0mX\u001b[0m\u001b[0;34m,\u001b[0m \u001b[0maccept_sparse\u001b[0m\u001b[0;34m=\u001b[0m\u001b[0;34m[\u001b[0m\u001b[0;34m'csr'\u001b[0m\u001b[0;34m,\u001b[0m \u001b[0;34m'csc'\u001b[0m\u001b[0;34m,\u001b[0m \u001b[0;34m'coo'\u001b[0m\u001b[0;34m]\u001b[0m\u001b[0;34m)\u001b[0m\u001b[0;34m\u001b[0m\u001b[0;34m\u001b[0m\u001b[0m\n\u001b[0m\u001b[1;32m    221\u001b[0m         return safe_sparse_dot(X, self.coef_.T,\n\u001b[1;32m    222\u001b[0m                                dense_output=True) + self.intercept_\n",
      "\u001b[0;32m~/miniconda/envs/AiCore/lib/python3.9/site-packages/sklearn/utils/validation.py\u001b[0m in \u001b[0;36minner_f\u001b[0;34m(*args, **kwargs)\u001b[0m\n\u001b[1;32m     61\u001b[0m             \u001b[0mextra_args\u001b[0m \u001b[0;34m=\u001b[0m \u001b[0mlen\u001b[0m\u001b[0;34m(\u001b[0m\u001b[0margs\u001b[0m\u001b[0;34m)\u001b[0m \u001b[0;34m-\u001b[0m \u001b[0mlen\u001b[0m\u001b[0;34m(\u001b[0m\u001b[0mall_args\u001b[0m\u001b[0;34m)\u001b[0m\u001b[0;34m\u001b[0m\u001b[0;34m\u001b[0m\u001b[0m\n\u001b[1;32m     62\u001b[0m             \u001b[0;32mif\u001b[0m \u001b[0mextra_args\u001b[0m \u001b[0;34m<=\u001b[0m \u001b[0;36m0\u001b[0m\u001b[0;34m:\u001b[0m\u001b[0;34m\u001b[0m\u001b[0;34m\u001b[0m\u001b[0m\n\u001b[0;32m---> 63\u001b[0;31m                 \u001b[0;32mreturn\u001b[0m \u001b[0mf\u001b[0m\u001b[0;34m(\u001b[0m\u001b[0;34m*\u001b[0m\u001b[0margs\u001b[0m\u001b[0;34m,\u001b[0m \u001b[0;34m**\u001b[0m\u001b[0mkwargs\u001b[0m\u001b[0;34m)\u001b[0m\u001b[0;34m\u001b[0m\u001b[0;34m\u001b[0m\u001b[0m\n\u001b[0m\u001b[1;32m     64\u001b[0m \u001b[0;34m\u001b[0m\u001b[0m\n\u001b[1;32m     65\u001b[0m             \u001b[0;31m# extra_args > 0\u001b[0m\u001b[0;34m\u001b[0m\u001b[0;34m\u001b[0m\u001b[0;34m\u001b[0m\u001b[0m\n",
      "\u001b[0;32m~/miniconda/envs/AiCore/lib/python3.9/site-packages/sklearn/utils/validation.py\u001b[0m in \u001b[0;36mcheck_array\u001b[0;34m(array, accept_sparse, accept_large_sparse, dtype, order, copy, force_all_finite, ensure_2d, allow_nd, ensure_min_samples, ensure_min_features, estimator)\u001b[0m\n\u001b[1;32m    692\u001b[0m             \u001b[0;31m# If input is 1D raise error\u001b[0m\u001b[0;34m\u001b[0m\u001b[0;34m\u001b[0m\u001b[0;34m\u001b[0m\u001b[0m\n\u001b[1;32m    693\u001b[0m             \u001b[0;32mif\u001b[0m \u001b[0marray\u001b[0m\u001b[0;34m.\u001b[0m\u001b[0mndim\u001b[0m \u001b[0;34m==\u001b[0m \u001b[0;36m1\u001b[0m\u001b[0;34m:\u001b[0m\u001b[0;34m\u001b[0m\u001b[0;34m\u001b[0m\u001b[0m\n\u001b[0;32m--> 694\u001b[0;31m                 raise ValueError(\n\u001b[0m\u001b[1;32m    695\u001b[0m                     \u001b[0;34m\"Expected 2D array, got 1D array instead:\\narray={}.\\n\"\u001b[0m\u001b[0;34m\u001b[0m\u001b[0;34m\u001b[0m\u001b[0m\n\u001b[1;32m    696\u001b[0m                     \u001b[0;34m\"Reshape your data either using array.reshape(-1, 1) if \"\u001b[0m\u001b[0;34m\u001b[0m\u001b[0;34m\u001b[0m\u001b[0m\n",
      "\u001b[0;31mValueError\u001b[0m: Expected 2D array, got 1D array instead:\narray=[1. 1. 1. ... 0. 1. 0.].\nReshape your data either using array.reshape(-1, 1) if your data has a single feature or array.reshape(1, -1) if it contains a single sample."
     ]
    }
   ],
   "source": [
    "model.score(X_mod, y_test)"
   ]
  },
  {
   "cell_type": "code",
   "execution_count": 32,
   "id": "39d433e0",
   "metadata": {
    "ExecuteTime": {
     "end_time": "2021-11-10T19:13:02.032973Z",
     "start_time": "2021-11-10T19:13:02.029000Z"
    }
   },
   "outputs": [
    {
     "data": {
      "text/plain": [
       "array([0.00066131, 0.0026507 , 0.00266083, 0.00183708, 0.00092441,\n",
       "       0.00177285, 0.00110102, 0.00306742, 0.00239271, 0.00111449,\n",
       "       0.00057932, 0.00183406, 0.00139145, 0.00113098, 0.0021579 ,\n",
       "       0.0021822 , 0.00148963, 0.00180433, 0.0018539 , 0.00136103,\n",
       "       0.00139962, 0.00116597, 0.00112647, 0.00201663, 0.00070092,\n",
       "       0.00133226, 0.00317875, 0.00222304])"
      ]
     },
     "execution_count": 32,
     "metadata": {},
     "output_type": "execute_result"
    }
   ],
   "source": [
    "X_train[12]"
   ]
  },
  {
   "cell_type": "code",
   "execution_count": 33,
   "id": "d9aa2067",
   "metadata": {
    "ExecuteTime": {
     "end_time": "2021-11-10T19:13:02.044886Z",
     "start_time": "2021-11-10T19:13:02.034997Z"
    }
   },
   "outputs": [
    {
     "data": {
      "text/html": [
       "<div>\n",
       "<style scoped>\n",
       "    .dataframe tbody tr th:only-of-type {\n",
       "        vertical-align: middle;\n",
       "    }\n",
       "\n",
       "    .dataframe tbody tr th {\n",
       "        vertical-align: top;\n",
       "    }\n",
       "\n",
       "    .dataframe thead th {\n",
       "        text-align: right;\n",
       "    }\n",
       "</style>\n",
       "<table border=\"1\" class=\"dataframe\">\n",
       "  <thead>\n",
       "    <tr style=\"text-align: right;\">\n",
       "      <th></th>\n",
       "      <th>Feature</th>\n",
       "      <th>Weight_sq</th>\n",
       "    </tr>\n",
       "  </thead>\n",
       "  <tbody>\n",
       "    <tr>\n",
       "      <th>23</th>\n",
       "      <td>Lose_When_Away</td>\n",
       "      <td>9.845648e+00</td>\n",
       "    </tr>\n",
       "    <tr>\n",
       "      <th>12</th>\n",
       "      <td>Goals_Against_When_Home</td>\n",
       "      <td>4.345855e+01</td>\n",
       "    </tr>\n",
       "    <tr>\n",
       "      <th>21</th>\n",
       "      <td>Wins_When_Away</td>\n",
       "      <td>2.768328e+02</td>\n",
       "    </tr>\n",
       "    <tr>\n",
       "      <th>9</th>\n",
       "      <td>Draw_When_Home</td>\n",
       "      <td>5.048403e+02</td>\n",
       "    </tr>\n",
       "    <tr>\n",
       "      <th>22</th>\n",
       "      <td>Draw_When_Away</td>\n",
       "      <td>6.283957e+02</td>\n",
       "    </tr>\n",
       "    <tr>\n",
       "      <th>20</th>\n",
       "      <td>Total_Streak_Away</td>\n",
       "      <td>9.612844e+02</td>\n",
       "    </tr>\n",
       "    <tr>\n",
       "      <th>8</th>\n",
       "      <td>Wins_When_Home</td>\n",
       "      <td>1.128262e+03</td>\n",
       "    </tr>\n",
       "    <tr>\n",
       "      <th>24</th>\n",
       "      <td>Goals_For_When_Away</td>\n",
       "      <td>1.399020e+03</td>\n",
       "    </tr>\n",
       "    <tr>\n",
       "      <th>17</th>\n",
       "      <td>Total_Lose_Away</td>\n",
       "      <td>1.627567e+03</td>\n",
       "    </tr>\n",
       "    <tr>\n",
       "      <th>10</th>\n",
       "      <td>Lose_When_Home</td>\n",
       "      <td>1.672867e+03</td>\n",
       "    </tr>\n",
       "    <tr>\n",
       "      <th>11</th>\n",
       "      <td>Goals_For_When_Home</td>\n",
       "      <td>2.297697e+03</td>\n",
       "    </tr>\n",
       "    <tr>\n",
       "      <th>7</th>\n",
       "      <td>Total_Streak_Home</td>\n",
       "      <td>3.065602e+03</td>\n",
       "    </tr>\n",
       "    <tr>\n",
       "      <th>13</th>\n",
       "      <td>Position_Away</td>\n",
       "      <td>4.093661e+03</td>\n",
       "    </tr>\n",
       "    <tr>\n",
       "      <th>25</th>\n",
       "      <td>Goals_Against_When_Away</td>\n",
       "      <td>4.132713e+03</td>\n",
       "    </tr>\n",
       "    <tr>\n",
       "      <th>26</th>\n",
       "      <td>Streak_When_Home</td>\n",
       "      <td>5.275841e+03</td>\n",
       "    </tr>\n",
       "    <tr>\n",
       "      <th>4</th>\n",
       "      <td>Total_Lose_Home</td>\n",
       "      <td>5.591799e+03</td>\n",
       "    </tr>\n",
       "    <tr>\n",
       "      <th>27</th>\n",
       "      <td>Streak_When_Away</td>\n",
       "      <td>5.732360e+03</td>\n",
       "    </tr>\n",
       "    <tr>\n",
       "      <th>0</th>\n",
       "      <td>Position_Home</td>\n",
       "      <td>5.887233e+03</td>\n",
       "    </tr>\n",
       "    <tr>\n",
       "      <th>6</th>\n",
       "      <td>Total_Goals_Against_Home_Team</td>\n",
       "      <td>6.259272e+04</td>\n",
       "    </tr>\n",
       "    <tr>\n",
       "      <th>19</th>\n",
       "      <td>Total_Goals_Against_Away_Team</td>\n",
       "      <td>9.210450e+04</td>\n",
       "    </tr>\n",
       "    <tr>\n",
       "      <th>18</th>\n",
       "      <td>Total_Goals_For_Away_Team</td>\n",
       "      <td>1.047992e+05</td>\n",
       "    </tr>\n",
       "    <tr>\n",
       "      <th>5</th>\n",
       "      <td>Total_Goals_For_Home_Team</td>\n",
       "      <td>1.358287e+05</td>\n",
       "    </tr>\n",
       "    <tr>\n",
       "      <th>3</th>\n",
       "      <td>Total_Draw_Home</td>\n",
       "      <td>4.944603e+17</td>\n",
       "    </tr>\n",
       "    <tr>\n",
       "      <th>16</th>\n",
       "      <td>Total_Draw_Away</td>\n",
       "      <td>6.000394e+18</td>\n",
       "    </tr>\n",
       "    <tr>\n",
       "      <th>2</th>\n",
       "      <td>Total_Wins_Home</td>\n",
       "      <td>6.872883e+18</td>\n",
       "    </tr>\n",
       "    <tr>\n",
       "      <th>1</th>\n",
       "      <td>Points_Home</td>\n",
       "      <td>9.727992e+18</td>\n",
       "    </tr>\n",
       "    <tr>\n",
       "      <th>15</th>\n",
       "      <td>Total_Wins_Away</td>\n",
       "      <td>7.706682e+19</td>\n",
       "    </tr>\n",
       "    <tr>\n",
       "      <th>14</th>\n",
       "      <td>Points_Away</td>\n",
       "      <td>1.116956e+20</td>\n",
       "    </tr>\n",
       "  </tbody>\n",
       "</table>\n",
       "</div>"
      ],
      "text/plain": [
       "                          Feature     Weight_sq\n",
       "23                 Lose_When_Away  9.845648e+00\n",
       "12        Goals_Against_When_Home  4.345855e+01\n",
       "21                 Wins_When_Away  2.768328e+02\n",
       "9                  Draw_When_Home  5.048403e+02\n",
       "22                 Draw_When_Away  6.283957e+02\n",
       "20              Total_Streak_Away  9.612844e+02\n",
       "8                  Wins_When_Home  1.128262e+03\n",
       "24            Goals_For_When_Away  1.399020e+03\n",
       "17                Total_Lose_Away  1.627567e+03\n",
       "10                 Lose_When_Home  1.672867e+03\n",
       "11            Goals_For_When_Home  2.297697e+03\n",
       "7               Total_Streak_Home  3.065602e+03\n",
       "13                  Position_Away  4.093661e+03\n",
       "25        Goals_Against_When_Away  4.132713e+03\n",
       "26               Streak_When_Home  5.275841e+03\n",
       "4                 Total_Lose_Home  5.591799e+03\n",
       "27               Streak_When_Away  5.732360e+03\n",
       "0                   Position_Home  5.887233e+03\n",
       "6   Total_Goals_Against_Home_Team  6.259272e+04\n",
       "19  Total_Goals_Against_Away_Team  9.210450e+04\n",
       "18      Total_Goals_For_Away_Team  1.047992e+05\n",
       "5       Total_Goals_For_Home_Team  1.358287e+05\n",
       "3                 Total_Draw_Home  4.944603e+17\n",
       "16                Total_Draw_Away  6.000394e+18\n",
       "2                 Total_Wins_Home  6.872883e+18\n",
       "1                     Points_Home  9.727992e+18\n",
       "15                Total_Wins_Away  7.706682e+19\n",
       "14                    Points_Away  1.116956e+20"
      ]
     },
     "execution_count": 33,
     "metadata": {},
     "output_type": "execute_result"
    }
   ],
   "source": [
    "weights = list(zip(features, m**2))\n",
    "weights_df = df = pd.DataFrame(weights, columns = ['Feature', 'Weight_sq'])\n",
    "weights_df.sort_values(by=['Weight_sq'])"
   ]
  },
  {
   "cell_type": "code",
   "execution_count": 34,
   "id": "d34fcaff",
   "metadata": {
    "ExecuteTime": {
     "end_time": "2021-11-10T19:13:02.050435Z",
     "start_time": "2021-11-10T19:13:02.046565Z"
    }
   },
   "outputs": [
    {
     "data": {
      "text/plain": [
       "array([0., 0., 0., 0., 0., 0., 0., 0., 0., 0., 0., 0., 0., 0., 0., 0., 0.,\n",
       "       0., 0., 0., 0., 0., 0., 0., 0., 0., 0., 0.])"
      ]
     },
     "execution_count": 34,
     "metadata": {},
     "output_type": "execute_result"
    }
   ],
   "source": [
    "X[0]"
   ]
  },
  {
   "cell_type": "code",
   "execution_count": 35,
   "id": "cc70cd0a",
   "metadata": {
    "ExecuteTime": {
     "end_time": "2021-11-10T19:13:03.950616Z",
     "start_time": "2021-11-10T19:13:02.052841Z"
    }
   },
   "outputs": [],
   "source": [
    "combined_csv.to_csv( \"combined_clean.csv\", index=False, encoding='utf-8-sig')"
   ]
  },
  {
   "cell_type": "code",
   "execution_count": 36,
   "id": "6d3bd1a9",
   "metadata": {
    "ExecuteTime": {
     "end_time": "2021-11-10T19:13:04.012598Z",
     "start_time": "2021-11-10T19:13:03.952768Z"
    }
   },
   "outputs": [
    {
     "data": {
      "text/html": [
       "<div>\n",
       "<style scoped>\n",
       "    .dataframe tbody tr th:only-of-type {\n",
       "        vertical-align: middle;\n",
       "    }\n",
       "\n",
       "    .dataframe tbody tr th {\n",
       "        vertical-align: top;\n",
       "    }\n",
       "\n",
       "    .dataframe thead th {\n",
       "        text-align: right;\n",
       "    }\n",
       "</style>\n",
       "<table border=\"1\" class=\"dataframe\">\n",
       "  <thead>\n",
       "    <tr style=\"text-align: right;\">\n",
       "      <th></th>\n",
       "      <th>Position_Home</th>\n",
       "      <th>Points_Home</th>\n",
       "      <th>Total_Wins_Home</th>\n",
       "      <th>Total_Draw_Home</th>\n",
       "      <th>Total_Lose_Home</th>\n",
       "      <th>Total_Goals_For_Home_Team</th>\n",
       "      <th>Total_Goals_Against_Home_Team</th>\n",
       "      <th>Total_Streak_Home</th>\n",
       "      <th>Wins_When_Home</th>\n",
       "      <th>Draw_When_Home</th>\n",
       "      <th>...</th>\n",
       "      <th>Total_Goals_For_Away_Team</th>\n",
       "      <th>Total_Goals_Against_Away_Team</th>\n",
       "      <th>Total_Streak_Away</th>\n",
       "      <th>Wins_When_Away</th>\n",
       "      <th>Draw_When_Away</th>\n",
       "      <th>Lose_When_Away</th>\n",
       "      <th>Goals_For_When_Away</th>\n",
       "      <th>Goals_Against_When_Away</th>\n",
       "      <th>Streak_When_Home</th>\n",
       "      <th>Streak_When_Away</th>\n",
       "    </tr>\n",
       "  </thead>\n",
       "  <tbody>\n",
       "    <tr>\n",
       "      <th>240</th>\n",
       "      <td>22</td>\n",
       "      <td>18</td>\n",
       "      <td>4</td>\n",
       "      <td>6</td>\n",
       "      <td>10</td>\n",
       "      <td>17</td>\n",
       "      <td>30</td>\n",
       "      <td>3.8</td>\n",
       "      <td>2</td>\n",
       "      <td>4</td>\n",
       "      <td>...</td>\n",
       "      <td>21</td>\n",
       "      <td>17</td>\n",
       "      <td>1.2</td>\n",
       "      <td>2</td>\n",
       "      <td>6</td>\n",
       "      <td>2</td>\n",
       "      <td>10</td>\n",
       "      <td>10</td>\n",
       "      <td>5.0</td>\n",
       "      <td>1.2</td>\n",
       "    </tr>\n",
       "    <tr>\n",
       "      <th>241</th>\n",
       "      <td>5</td>\n",
       "      <td>33</td>\n",
       "      <td>9</td>\n",
       "      <td>6</td>\n",
       "      <td>5</td>\n",
       "      <td>32</td>\n",
       "      <td>22</td>\n",
       "      <td>5.8</td>\n",
       "      <td>7</td>\n",
       "      <td>2</td>\n",
       "      <td>...</td>\n",
       "      <td>14</td>\n",
       "      <td>32</td>\n",
       "      <td>1.4</td>\n",
       "      <td>1</td>\n",
       "      <td>2</td>\n",
       "      <td>7</td>\n",
       "      <td>4</td>\n",
       "      <td>15</td>\n",
       "      <td>7.8</td>\n",
       "      <td>1.0</td>\n",
       "    </tr>\n",
       "    <tr>\n",
       "      <th>242</th>\n",
       "      <td>12</td>\n",
       "      <td>26</td>\n",
       "      <td>6</td>\n",
       "      <td>8</td>\n",
       "      <td>6</td>\n",
       "      <td>24</td>\n",
       "      <td>21</td>\n",
       "      <td>3.8</td>\n",
       "      <td>4</td>\n",
       "      <td>4</td>\n",
       "      <td>...</td>\n",
       "      <td>25</td>\n",
       "      <td>27</td>\n",
       "      <td>4.0</td>\n",
       "      <td>3</td>\n",
       "      <td>2</td>\n",
       "      <td>5</td>\n",
       "      <td>8</td>\n",
       "      <td>16</td>\n",
       "      <td>4.4</td>\n",
       "      <td>3.0</td>\n",
       "    </tr>\n",
       "    <tr>\n",
       "      <th>243</th>\n",
       "      <td>2</td>\n",
       "      <td>41</td>\n",
       "      <td>13</td>\n",
       "      <td>2</td>\n",
       "      <td>5</td>\n",
       "      <td>38</td>\n",
       "      <td>23</td>\n",
       "      <td>6.0</td>\n",
       "      <td>7</td>\n",
       "      <td>1</td>\n",
       "      <td>...</td>\n",
       "      <td>24</td>\n",
       "      <td>29</td>\n",
       "      <td>5.6</td>\n",
       "      <td>1</td>\n",
       "      <td>4</td>\n",
       "      <td>5</td>\n",
       "      <td>13</td>\n",
       "      <td>17</td>\n",
       "      <td>4.6</td>\n",
       "      <td>4.4</td>\n",
       "    </tr>\n",
       "    <tr>\n",
       "      <th>244</th>\n",
       "      <td>19</td>\n",
       "      <td>22</td>\n",
       "      <td>5</td>\n",
       "      <td>7</td>\n",
       "      <td>8</td>\n",
       "      <td>28</td>\n",
       "      <td>34</td>\n",
       "      <td>5.6</td>\n",
       "      <td>4</td>\n",
       "      <td>4</td>\n",
       "      <td>...</td>\n",
       "      <td>23</td>\n",
       "      <td>24</td>\n",
       "      <td>3.0</td>\n",
       "      <td>1</td>\n",
       "      <td>2</td>\n",
       "      <td>7</td>\n",
       "      <td>7</td>\n",
       "      <td>15</td>\n",
       "      <td>6.0</td>\n",
       "      <td>1.2</td>\n",
       "    </tr>\n",
       "    <tr>\n",
       "      <th>...</th>\n",
       "      <td>...</td>\n",
       "      <td>...</td>\n",
       "      <td>...</td>\n",
       "      <td>...</td>\n",
       "      <td>...</td>\n",
       "      <td>...</td>\n",
       "      <td>...</td>\n",
       "      <td>...</td>\n",
       "      <td>...</td>\n",
       "      <td>...</td>\n",
       "      <td>...</td>\n",
       "      <td>...</td>\n",
       "      <td>...</td>\n",
       "      <td>...</td>\n",
       "      <td>...</td>\n",
       "      <td>...</td>\n",
       "      <td>...</td>\n",
       "      <td>...</td>\n",
       "      <td>...</td>\n",
       "      <td>...</td>\n",
       "      <td>...</td>\n",
       "    </tr>\n",
       "    <tr>\n",
       "      <th>375</th>\n",
       "      <td>5</td>\n",
       "      <td>59</td>\n",
       "      <td>16</td>\n",
       "      <td>11</td>\n",
       "      <td>10</td>\n",
       "      <td>42</td>\n",
       "      <td>38</td>\n",
       "      <td>7.8</td>\n",
       "      <td>9</td>\n",
       "      <td>6</td>\n",
       "      <td>...</td>\n",
       "      <td>37</td>\n",
       "      <td>48</td>\n",
       "      <td>3.8</td>\n",
       "      <td>1</td>\n",
       "      <td>7</td>\n",
       "      <td>10</td>\n",
       "      <td>10</td>\n",
       "      <td>23</td>\n",
       "      <td>7.2</td>\n",
       "      <td>0.6</td>\n",
       "    </tr>\n",
       "    <tr>\n",
       "      <th>376</th>\n",
       "      <td>1</td>\n",
       "      <td>64</td>\n",
       "      <td>19</td>\n",
       "      <td>7</td>\n",
       "      <td>11</td>\n",
       "      <td>66</td>\n",
       "      <td>43</td>\n",
       "      <td>4.2</td>\n",
       "      <td>15</td>\n",
       "      <td>2</td>\n",
       "      <td>...</td>\n",
       "      <td>34</td>\n",
       "      <td>59</td>\n",
       "      <td>0.0</td>\n",
       "      <td>1</td>\n",
       "      <td>3</td>\n",
       "      <td>14</td>\n",
       "      <td>14</td>\n",
       "      <td>38</td>\n",
       "      <td>9.0</td>\n",
       "      <td>1.0</td>\n",
       "    </tr>\n",
       "    <tr>\n",
       "      <th>377</th>\n",
       "      <td>11</td>\n",
       "      <td>47</td>\n",
       "      <td>11</td>\n",
       "      <td>14</td>\n",
       "      <td>12</td>\n",
       "      <td>34</td>\n",
       "      <td>39</td>\n",
       "      <td>4.6</td>\n",
       "      <td>10</td>\n",
       "      <td>5</td>\n",
       "      <td>...</td>\n",
       "      <td>52</td>\n",
       "      <td>36</td>\n",
       "      <td>5.4</td>\n",
       "      <td>5</td>\n",
       "      <td>9</td>\n",
       "      <td>4</td>\n",
       "      <td>21</td>\n",
       "      <td>24</td>\n",
       "      <td>7.8</td>\n",
       "      <td>1.4</td>\n",
       "    </tr>\n",
       "    <tr>\n",
       "      <th>378</th>\n",
       "      <td>16</td>\n",
       "      <td>46</td>\n",
       "      <td>10</td>\n",
       "      <td>16</td>\n",
       "      <td>11</td>\n",
       "      <td>59</td>\n",
       "      <td>52</td>\n",
       "      <td>3.6</td>\n",
       "      <td>8</td>\n",
       "      <td>6</td>\n",
       "      <td>...</td>\n",
       "      <td>42</td>\n",
       "      <td>43</td>\n",
       "      <td>4.8</td>\n",
       "      <td>2</td>\n",
       "      <td>7</td>\n",
       "      <td>9</td>\n",
       "      <td>19</td>\n",
       "      <td>29</td>\n",
       "      <td>7.8</td>\n",
       "      <td>3.2</td>\n",
       "    </tr>\n",
       "    <tr>\n",
       "      <th>379</th>\n",
       "      <td>14</td>\n",
       "      <td>46</td>\n",
       "      <td>10</td>\n",
       "      <td>16</td>\n",
       "      <td>11</td>\n",
       "      <td>43</td>\n",
       "      <td>46</td>\n",
       "      <td>5.0</td>\n",
       "      <td>6</td>\n",
       "      <td>10</td>\n",
       "      <td>...</td>\n",
       "      <td>35</td>\n",
       "      <td>64</td>\n",
       "      <td>1.2</td>\n",
       "      <td>0</td>\n",
       "      <td>5</td>\n",
       "      <td>13</td>\n",
       "      <td>13</td>\n",
       "      <td>39</td>\n",
       "      <td>5.8</td>\n",
       "      <td>0.4</td>\n",
       "    </tr>\n",
       "  </tbody>\n",
       "</table>\n",
       "<p>65709 rows × 28 columns</p>\n",
       "</div>"
      ],
      "text/plain": [
       "     Position_Home  Points_Home  Total_Wins_Home  Total_Draw_Home  \\\n",
       "240             22           18                4                6   \n",
       "241              5           33                9                6   \n",
       "242             12           26                6                8   \n",
       "243              2           41               13                2   \n",
       "244             19           22                5                7   \n",
       "..             ...          ...              ...              ...   \n",
       "375              5           59               16               11   \n",
       "376              1           64               19                7   \n",
       "377             11           47               11               14   \n",
       "378             16           46               10               16   \n",
       "379             14           46               10               16   \n",
       "\n",
       "     Total_Lose_Home  Total_Goals_For_Home_Team  \\\n",
       "240               10                         17   \n",
       "241                5                         32   \n",
       "242                6                         24   \n",
       "243                5                         38   \n",
       "244                8                         28   \n",
       "..               ...                        ...   \n",
       "375               10                         42   \n",
       "376               11                         66   \n",
       "377               12                         34   \n",
       "378               11                         59   \n",
       "379               11                         43   \n",
       "\n",
       "     Total_Goals_Against_Home_Team  Total_Streak_Home  Wins_When_Home  \\\n",
       "240                             30                3.8               2   \n",
       "241                             22                5.8               7   \n",
       "242                             21                3.8               4   \n",
       "243                             23                6.0               7   \n",
       "244                             34                5.6               4   \n",
       "..                             ...                ...             ...   \n",
       "375                             38                7.8               9   \n",
       "376                             43                4.2              15   \n",
       "377                             39                4.6              10   \n",
       "378                             52                3.6               8   \n",
       "379                             46                5.0               6   \n",
       "\n",
       "     Draw_When_Home  ...  Total_Goals_For_Away_Team  \\\n",
       "240               4  ...                         21   \n",
       "241               2  ...                         14   \n",
       "242               4  ...                         25   \n",
       "243               1  ...                         24   \n",
       "244               4  ...                         23   \n",
       "..              ...  ...                        ...   \n",
       "375               6  ...                         37   \n",
       "376               2  ...                         34   \n",
       "377               5  ...                         52   \n",
       "378               6  ...                         42   \n",
       "379              10  ...                         35   \n",
       "\n",
       "     Total_Goals_Against_Away_Team  Total_Streak_Away  Wins_When_Away  \\\n",
       "240                             17                1.2               2   \n",
       "241                             32                1.4               1   \n",
       "242                             27                4.0               3   \n",
       "243                             29                5.6               1   \n",
       "244                             24                3.0               1   \n",
       "..                             ...                ...             ...   \n",
       "375                             48                3.8               1   \n",
       "376                             59                0.0               1   \n",
       "377                             36                5.4               5   \n",
       "378                             43                4.8               2   \n",
       "379                             64                1.2               0   \n",
       "\n",
       "     Draw_When_Away  Lose_When_Away  Goals_For_When_Away  \\\n",
       "240               6               2                   10   \n",
       "241               2               7                    4   \n",
       "242               2               5                    8   \n",
       "243               4               5                   13   \n",
       "244               2               7                    7   \n",
       "..              ...             ...                  ...   \n",
       "375               7              10                   10   \n",
       "376               3              14                   14   \n",
       "377               9               4                   21   \n",
       "378               7               9                   19   \n",
       "379               5              13                   13   \n",
       "\n",
       "     Goals_Against_When_Away  Streak_When_Home  Streak_When_Away  \n",
       "240                       10               5.0               1.2  \n",
       "241                       15               7.8               1.0  \n",
       "242                       16               4.4               3.0  \n",
       "243                       17               4.6               4.4  \n",
       "244                       15               6.0               1.2  \n",
       "..                       ...               ...               ...  \n",
       "375                       23               7.2               0.6  \n",
       "376                       38               9.0               1.0  \n",
       "377                       24               7.8               1.4  \n",
       "378                       29               7.8               3.2  \n",
       "379                       39               5.8               0.4  \n",
       "\n",
       "[65709 rows x 28 columns]"
      ]
     },
     "execution_count": 36,
     "metadata": {},
     "output_type": "execute_result"
    }
   ],
   "source": [
    "combined_csv[combined_csv[\"Round\"]>20][features]"
   ]
  },
  {
   "cell_type": "code",
   "execution_count": 37,
   "id": "a48015a6",
   "metadata": {
    "ExecuteTime": {
     "end_time": "2021-11-10T19:13:08.632915Z",
     "start_time": "2021-11-10T19:13:04.014279Z"
    }
   },
   "outputs": [],
   "source": [
    "def lin_reg(X, y):\n",
    "    X_train, X_test, y_train, y_test = train_test_split(X, y, test_size=0.2, random_state=4)\n",
    "    model = LinearRegression()\n",
    "    model.fit(X_train, y_train)\n",
    "    b = model.intercept_\n",
    "    m = model.coef_\n",
    "    return (m, b, model.score(X_train, y_train))\n",
    "\n",
    "linear_reg_dict = {}\n",
    "\n",
    "for i in range(30):\n",
    "    X = np.array(combined_csv[combined_csv[\"Round\"]>i][features])\n",
    "    y = np.array(combined_csv[combined_csv[\"Round\"]>i]['difference'])\n",
    "    linear_reg_dict[i] = lin_reg(X, y)"
   ]
  },
  {
   "cell_type": "code",
   "execution_count": 38,
   "id": "024516f1",
   "metadata": {
    "ExecuteTime": {
     "end_time": "2021-11-10T19:13:08.653350Z",
     "start_time": "2021-11-10T19:13:08.634950Z"
    }
   },
   "outputs": [
    {
     "data": {
      "text/plain": [
       "{0: (array([-0.0169137 , -0.00777828, -0.00564078,  0.00914408,  0.02304197,\n",
       "          0.03266904, -0.02295493,  0.03266082, -0.01339504, -0.01252053,\n",
       "         -0.02369427, -0.00627958,  0.00114657,  0.01447244,  0.0103409 ,\n",
       "          0.00356592, -0.00035685, -0.01213202, -0.03000784,  0.02753704,\n",
       "         -0.01808117, -0.00969982, -0.01411911, -0.00126563,  0.00655419,\n",
       "         -0.00856458,  0.03724002, -0.05610376]),\n",
       "  0.40417084269616227,\n",
       "  0.1658780890813737),\n",
       " 1: (array([-1.84010888e-02, -7.76621441e-03, -5.61589822e-03,  9.08148024e-03,\n",
       "          1.79837971e-02,  3.09565836e-02, -2.17636894e-02,  3.24050757e-02,\n",
       "         -1.81651647e-02, -1.11639706e-02, -1.44482005e-02, -3.88011725e-03,\n",
       "         -7.69892072e-04,  1.36602506e-02,  1.08815285e-02,  2.94359856e-03,\n",
       "          2.05073285e-03, -9.45632946e-03, -2.86849359e-02,  2.62516136e-02,\n",
       "         -2.35566755e-02, -1.45173304e-02, -1.81897317e-02,  9.36703672e-05,\n",
       "          6.23974046e-03, -8.19961376e-03,  3.89298235e-02, -5.13866934e-02]),\n",
       "  0.4284423891612979,\n",
       "  0.1709315392663645),\n",
       " 2: (array([-0.01730048, -0.00804339, -0.0053208 ,  0.00791901,  0.01941229,\n",
       "          0.03209196, -0.02129819,  0.0326321 , -0.01440487, -0.01118542,\n",
       "         -0.01632083, -0.00563091, -0.00088072,  0.01287458,  0.01084223,\n",
       "          0.00417187, -0.00167338, -0.00683341, -0.03062559,  0.02674463,\n",
       "         -0.01920281, -0.01652095, -0.01290178, -0.00448052,  0.00792637,\n",
       "         -0.00821283,  0.03917178, -0.05191051]),\n",
       "  0.41040657719849327,\n",
       "  0.17382004887058744),\n",
       " 3: (array([-0.01642817, -0.00600083, -0.00445462,  0.00736301,  0.01502883,\n",
       "          0.03013134, -0.0208868 ,  0.02558773, -0.01735943, -0.01037309,\n",
       "         -0.01262975, -0.0042401 , -0.00106811,  0.01267156,  0.01160162,\n",
       "          0.00344097,  0.00127873, -0.00916884, -0.0306707 ,  0.02712003,\n",
       "         -0.01742587, -0.01921089, -0.0189213 , -0.00381568,  0.007846  ,\n",
       "         -0.00791567,  0.03867646, -0.05344844]),\n",
       "  0.4205396362678132,\n",
       "  0.17601056467951792),\n",
       " 4: (array([-0.01574478, -0.00701492, -0.00393598,  0.00479303,  0.01757039,\n",
       "          0.02978354, -0.02177317,  0.02777815, -0.0169598 , -0.00552291,\n",
       "         -0.01232459, -0.00320538,  0.00049539,  0.01075076,  0.01007884,\n",
       "          0.0022887 ,  0.00321274, -0.00246391, -0.02924187,  0.02688114,\n",
       "         -0.01582322, -0.018009  , -0.02063898, -0.00757444,  0.00628274,\n",
       "         -0.00894251,  0.04228377, -0.04988008]),\n",
       "  0.3988053845764059,\n",
       "  0.17876102483296719),\n",
       " 5: (array([-0.01819213, -0.00712768, -0.00458962,  0.0066412 ,  0.01899851,\n",
       "          0.03175814, -0.0225597 ,  0.02809559, -0.01751748, -0.01076965,\n",
       "         -0.01358207, -0.00520324,  0.0002349 ,  0.00995559,  0.01031674,\n",
       "          0.00213055,  0.0039251 , -0.00207968, -0.0298046 ,  0.02605183,\n",
       "         -0.0147897 , -0.01939536, -0.01757236, -0.00554871,  0.00786171,\n",
       "         -0.00833306,  0.03718867, -0.04935206]),\n",
       "  0.450827312252369,\n",
       "  0.18341430367162004),\n",
       " 6: (array([-0.01720534, -0.00796068, -0.0044955 ,  0.00552582,  0.01730817,\n",
       "          0.03273028, -0.0222349 ,  0.02569282, -0.00477448, -0.00568542,\n",
       "         -0.01324856, -0.0091164 ,  0.00098479,  0.00996515,  0.01018256,\n",
       "          0.00226234,  0.00339554, -0.00362944, -0.0292867 ,  0.02641617,\n",
       "         -0.01395081, -0.01836963, -0.01971028, -0.01215859,  0.00641461,\n",
       "         -0.00601619,  0.03459577, -0.04959814]),\n",
       "  0.44624544330606974,\n",
       "  0.1840771826442168),\n",
       " 7: (array([-0.01747606, -0.00592851, -0.00434522,  0.00710713,  0.01451878,\n",
       "          0.03015143, -0.0208027 ,  0.02337636, -0.01545331, -0.01019014,\n",
       "         -0.00868253, -0.00446052, -0.00100712,  0.01014865,  0.01063088,\n",
       "          0.00279586,  0.00224331, -0.00719325, -0.03137443,  0.02832921,\n",
       "         -0.01133957, -0.02361954, -0.01865372, -0.00318494,  0.00930431,\n",
       "         -0.00985597,  0.03418038, -0.04710874]),\n",
       "  0.4397489403454782,\n",
       "  0.18722642873569484),\n",
       " 8: (array([-0.01627591, -0.00526348, -0.00346186,  0.00512209,  0.01420079,\n",
       "          0.02851849, -0.01979248,  0.02026589, -0.02186856, -0.01497504,\n",
       "         -0.01238889, -0.00226464, -0.00259775,  0.01060141,  0.00990307,\n",
       "          0.00169458,  0.00481933,  0.00074112, -0.02922154,  0.02426567,\n",
       "         -0.01308307, -0.01830474, -0.01496827, -0.00598889,  0.00812517,\n",
       "         -0.00680524,  0.03400095, -0.04318822]),\n",
       "  0.4352155005388911,\n",
       "  0.18680708154479408),\n",
       " 9: (array([-0.01505918, -0.00673035, -0.00318949,  0.00283811,  0.00879542,\n",
       "          0.02984556, -0.02140107,  0.0176276 , -0.01386688, -0.00693995,\n",
       "         -0.00709808, -0.00506855,  0.00141898,  0.00894611,  0.01025599,\n",
       "          0.00082307,  0.00778678,  0.00230484, -0.02801419,  0.0256374 ,\n",
       "         -0.01082117, -0.02042237, -0.02206694, -0.00940943,  0.00519422,\n",
       "         -0.0072331 ,  0.03535149, -0.04225925]),\n",
       "  0.4330775821244758,\n",
       "  0.19048546473534178),\n",
       " 10: (array([-0.01382483, -0.0040981 , -0.0029629 ,  0.00479061,  0.00900717,\n",
       "          0.02753318, -0.02026808,  0.01804094, -0.02314331, -0.01563773,\n",
       "         -0.01085649, -0.00178848, -0.00085859,  0.00828483,  0.0087978 ,\n",
       "          0.00049103,  0.00732472, -0.00111437, -0.02784108,  0.02678402,\n",
       "         -0.00995021, -0.01306243, -0.01526797, -0.00300613,  0.00621015,\n",
       "         -0.00962819,  0.03471184, -0.04042555]),\n",
       "  0.408395798206994,\n",
       "  0.19178299714484148),\n",
       " 11: (array([-1.43532544e-02, -6.44607523e-03, -2.17935040e-03,  9.19759685e-05,\n",
       "          7.86168857e-03,  2.89896654e-02, -2.12724323e-02,  1.32311543e-02,\n",
       "         -1.39532475e-02, -4.88809152e-03, -7.67829837e-03, -4.21058157e-03,\n",
       "          2.85405660e-04,  7.15659227e-03,  9.96958255e-03, -1.35127495e-03,\n",
       "          1.40234074e-02,  1.14911938e-02, -2.76330669e-02,  2.38746933e-02,\n",
       "         -6.95277280e-03, -1.98467125e-02, -2.71504824e-02, -1.53316753e-02,\n",
       "          6.70586022e-03, -6.46197377e-03,  3.25288900e-02, -3.85261144e-02]),\n",
       "  0.4369311511521363,\n",
       "  0.1920108571367195),\n",
       " 12: (array([-0.01432905, -0.00408063, -0.00278243,  0.00426664,  0.01263839,\n",
       "          0.02881585, -0.02216175,  0.01629848, -0.02737214, -0.01907633,\n",
       "         -0.02105686, -0.00476867,  0.00227677,  0.00683465,  0.00902393,\n",
       "         -0.00016582,  0.00952137,  0.00523498, -0.02768444,  0.02450999,\n",
       "         -0.0086926 , -0.00973839, -0.01299484, -0.00099951,  0.00616995,\n",
       "         -0.00686954,  0.03170892, -0.03403895]),\n",
       "  0.4051758902125959,\n",
       "  0.19464049533973948),\n",
       " 13: (array([-0.01391277, -0.00401617, -0.00220916,  0.0026113 ,  0.01037969,\n",
       "          0.0281118 , -0.02165046,  0.0124992 , -0.02480869, -0.01379967,\n",
       "         -0.01342087, -0.00416785,  0.00167657,  0.00497553,  0.00837957,\n",
       "         -0.00021503,  0.00902468,  0.00349677, -0.02725321,  0.02653161,\n",
       "         -0.00863202, -0.01395571, -0.01602349, -0.00243155,  0.00595906,\n",
       "         -0.00859881,  0.03230919, -0.0335163 ]),\n",
       "  0.4329711199943496,\n",
       "  0.1959598003968619),\n",
       " 14: (array([-0.01206833, -0.00668487, -0.00262211,  0.00118146,  0.0078735 ,\n",
       "          0.03061859, -0.02196863,  0.01284526, -0.01071018, -0.00879873,\n",
       "         -0.01199316, -0.00742483,  0.00228954,  0.00531609,  0.00991308,\n",
       "         -0.00061715,  0.01176454,  0.00650049, -0.02872423,  0.02602253,\n",
       "         -0.00116268, -0.02003233, -0.02147169, -0.00759903,  0.00761471,\n",
       "         -0.00810813,  0.02706619, -0.03433671]),\n",
       "  0.4135624222416546,\n",
       "  0.19532030545081847),\n",
       " 15: (array([-0.01324939, -0.00441084, -0.00213131,  0.00198309,  0.01042718,\n",
       "          0.02908703, -0.02170959,  0.01318224, -0.02270348, -0.01608098,\n",
       "         -0.01459644, -0.00582842,  0.00232299,  0.00254082,  0.0081965 ,\n",
       "         -0.00176508,  0.01349173,  0.01450413, -0.02682097,  0.02270923,\n",
       "         -0.00159492, -0.01459818, -0.01599609, -0.00922048,  0.00649211,\n",
       "         -0.00574094,  0.02825835, -0.03319724]),\n",
       "  0.42622355026156256,\n",
       "  0.1968686292659032),\n",
       " 16: (array([-0.01034992, -0.00247387, -0.00209126,  0.0037999 ,  0.0089427 ,\n",
       "          0.02827833, -0.0220088 ,  0.00917416, -0.03065691, -0.02339578,\n",
       "         -0.01810073, -0.00407758,  0.00341309,  0.00330232,  0.00707437,\n",
       "         -0.00054422,  0.00870702,  0.00785469, -0.02649144,  0.02504417,\n",
       "         -0.00265904, -0.00921032, -0.00740358,  0.00078617,  0.00548032,\n",
       "         -0.00929008,  0.02653301, -0.02940691]),\n",
       "  0.422761728417594,\n",
       "  0.19697993224457122),\n",
       " 17: (array([-0.01145099, -0.0026453 , -0.00239396,  0.0045366 ,  0.01566894,\n",
       "          0.02819355, -0.02294183,  0.01126121, -0.02943596, -0.02001491,\n",
       "         -0.02341858, -0.00416321,  0.00472759,  0.0010615 ,  0.00360961,\n",
       "         -0.00256543,  0.01130589,  0.01543829, -0.02305769,  0.02150482,\n",
       "          0.00260316, -0.00071127, -0.01107804, -0.00672072,  0.00260338,\n",
       "         -0.00631449,  0.02685885, -0.03122477]),\n",
       "  0.45291522355894215,\n",
       "  0.19758654841698153),\n",
       " 18: (array([-0.00907854, -0.00225956, -0.00204996,  0.00389032,  0.00758125,\n",
       "          0.02652444, -0.02061548,  0.00869601, -0.03134104, -0.0246692 ,\n",
       "         -0.01587609, -0.00281569,  0.00168469, -0.00132953,  0.00567398,\n",
       "         -0.00165814,  0.01064841,  0.0139708 , -0.02563311,  0.02293527,\n",
       "         -0.00253444, -0.00712436, -0.0079326 , -0.00516853,  0.00555874,\n",
       "         -0.00708673,  0.02551741, -0.03170578]),\n",
       "  0.5016916257928297,\n",
       "  0.19610612934821936),\n",
       " 19: (array([-0.00897598, -0.00524055, -0.00137099, -0.00112756,  0.00253641,\n",
       "          0.02846562, -0.02052621,  0.00297826, -0.01718285, -0.00923665,\n",
       "         -0.01068572, -0.00503508,  0.00264939, -0.00087879,  0.00653309,\n",
       "         -0.00316672,  0.01603324,  0.02276835, -0.02347983,  0.02091284,\n",
       "         -0.00128684, -0.00877461, -0.02050755, -0.01697107,  0.00332892,\n",
       "         -0.00592143,  0.02912868, -0.03093275]),\n",
       "  0.47160989228510175,\n",
       "  0.19671047030456068),\n",
       " 20: (array([-0.01128695, -0.00437366, -0.00266967,  0.00363536,  0.00360799,\n",
       "          0.02833016, -0.01960307,  0.01240073, -0.02185218, -0.02128217,\n",
       "         -0.01477111, -0.0059258 ,  0.00178941,  0.00012627,  0.00430151,\n",
       "         -0.00279835,  0.01269655,  0.01774389, -0.02219568,  0.02146674,\n",
       "          0.00271547,  0.00145533, -0.00800215, -0.00831497,  0.00228671,\n",
       "         -0.00577852,  0.0186437 , -0.03159322]),\n",
       "  0.47222035246846866,\n",
       "  0.1984667108209991),\n",
       " 21: (array([-0.01013829, -0.00231209, -0.0017837 ,  0.00303901,  0.00962728,\n",
       "          0.02808971, -0.01977507,  0.01089858, -0.01966918, -0.01583743,\n",
       "         -0.01571257, -0.00664369,  0.00346055,  0.00026434,  0.0043663 ,\n",
       "         -0.00252861,  0.01195214,  0.01455096, -0.02343329,  0.02046772,\n",
       "          0.00206303, -0.00449818, -0.01302634, -0.01277843,  0.00268288,\n",
       "         -0.00437654,  0.02262795, -0.02681178]),\n",
       "  0.40831354426839594,\n",
       "  0.19555691036472933),\n",
       " 22: (array([-0.01017303, -0.00125875, -0.001534  ,  0.00334325,  0.0090333 ,\n",
       "          0.02665148, -0.0193602 ,  0.00862542, -0.02007354, -0.01592146,\n",
       "         -0.01363546, -0.00596693,  0.00300054, -0.00337031,  0.0025439 ,\n",
       "         -0.00452156,  0.01610859,  0.01968685, -0.02286773,  0.02119789,\n",
       "          0.00438596,  0.00082713, -0.01571494, -0.01800313,  0.00259668,\n",
       "         -0.00506077,  0.02027406, -0.02802703]),\n",
       "  0.44172108969069307,\n",
       "  0.20133525856002343),\n",
       " 23: (array([-0.01055164,  0.00024568, -0.00216268,  0.00673373,  0.01524494,\n",
       "          0.02581713, -0.01988731,  0.0059033 , -0.02907813, -0.02358717,\n",
       "         -0.02321698, -0.00432987,  0.00189116,  0.00099157,  0.00290355,\n",
       "         -0.00134184,  0.00692906,  0.01003581, -0.02323209,  0.02180537,\n",
       "         -0.00034269,  0.00093961, -0.00390989, -0.00360968,  0.00491864,\n",
       "         -0.00666749,  0.01825759, -0.02459763]),\n",
       "  0.41680355353969906,\n",
       "  0.19446710723159977),\n",
       " 24: (array([-0.00629442,  0.0018613 ,  0.00011518,  0.00151575,  0.00645352,\n",
       "          0.02439202, -0.0177943 ,  0.00229702, -0.02836536, -0.01814764,\n",
       "         -0.01625626, -0.00436963,  0.00208193, -0.00128617,  0.00217489,\n",
       "         -0.00382921,  0.01366253,  0.01463089, -0.02221269,  0.02075648,\n",
       "          0.00292411,  0.0061648 , -0.01187075, -0.0150451 ,  0.0023876 ,\n",
       "         -0.00475282,  0.0242104 , -0.03080592]),\n",
       "  0.39914804545659105,\n",
       "  0.19510465082117112),\n",
       " 25: (array([-9.60638079e-03, -1.25331599e-03, -1.05383307e-03,  1.90818323e-03,\n",
       "          1.10441446e-02,  2.61050974e-02, -2.02476464e-02,  7.80407667e-03,\n",
       "         -2.40099923e-02, -1.64142245e-02, -1.90170850e-02, -5.32089879e-03,\n",
       "          4.29402250e-03,  1.91923428e-05,  4.53340251e-03, -2.43094673e-03,\n",
       "          1.18262427e-02,  1.45125668e-02, -2.39801202e-02,  2.14009401e-02,\n",
       "          2.56399209e-03, -5.39645312e-03, -1.24985344e-02, -9.91294372e-03,\n",
       "          4.78062612e-03, -6.87446494e-03,  1.88046248e-02, -2.36007008e-02]),\n",
       "  0.4509863258431381,\n",
       "  0.19607795779771298),\n",
       " 26: (array([-0.01107264, -0.00114534,  0.00047252, -0.00256288,  0.00182483,\n",
       "          0.02343277, -0.01608311,  0.00756761, -0.01741747, -0.00921078,\n",
       "         -0.00921695, -0.00469412,  0.00253941,  0.00042349,  0.00717984,\n",
       "         -0.00172413,  0.01235224,  0.01296151, -0.02696437,  0.0235906 ,\n",
       "          0.00515571, -0.01411812, -0.01780948, -0.01648505,  0.00613024,\n",
       "         -0.0076229 ,  0.02141705, -0.02641259]),\n",
       "  0.434923677204329,\n",
       "  0.1949720058707719),\n",
       " 27: (array([-0.00845139, -0.0063871 ,  0.00123403, -0.01008918, -0.01146879,\n",
       "          0.02418689, -0.01720899,  0.00483883,  0.00130033,  0.00870732,\n",
       "          0.00807249, -0.00565992,  0.00179102,  0.00062333,  0.01006551,\n",
       "         -0.00310754,  0.01938812,  0.03040446, -0.02507134,  0.02186249,\n",
       "          0.00830199, -0.02981607, -0.03539419, -0.03857817,  0.00626517,\n",
       "         -0.00569993,  0.01878379, -0.02175012]),\n",
       "  0.4800627630099234,\n",
       "  0.19399380682387857),\n",
       " 28: (array([-0.01037274, -0.00357188,  0.00073532, -0.00577785, -0.00635181,\n",
       "          0.0222241 , -0.01603002,  0.0029695 , -0.00035188,  0.01257791,\n",
       "          0.0121397 , -0.00343183,  0.00227018,  0.00511266,  0.00910032,\n",
       "         -0.00173111,  0.01429366,  0.0192572 , -0.02338632,  0.02204786,\n",
       "         -0.00239093, -0.03078804, -0.03673504, -0.03235849,  0.0035933 ,\n",
       "         -0.00695124,  0.02873072, -0.01737882]),\n",
       "  0.33229502502508235,\n",
       "  0.1902702596992043),\n",
       " 29: (array([-0.01050893, -0.00409664, -0.00081162, -0.00166179,  0.00106267,\n",
       "          0.02534318, -0.01958294,  0.0086138 , -0.00109603, -0.00075506,\n",
       "         -0.00224893, -0.00881657,  0.00762625,  0.00034855,  0.00628634,\n",
       "         -0.00275227,  0.01454315,  0.02753873, -0.02164282,  0.01813382,\n",
       "         -0.00508828, -0.01903567, -0.02758426, -0.03890114,  0.00070827,\n",
       "         -0.00117127,  0.02154336, -0.01325987]),\n",
       "  0.4916097436295826,\n",
       "  0.18524358186093548)}"
      ]
     },
     "execution_count": 38,
     "metadata": {},
     "output_type": "execute_result"
    }
   ],
   "source": [
    "linear_reg_dict"
   ]
  },
  {
   "cell_type": "code",
   "execution_count": 39,
   "id": "0a9cffbe",
   "metadata": {
    "ExecuteTime": {
     "end_time": "2021-11-10T19:13:08.670293Z",
     "start_time": "2021-11-10T19:13:08.655541Z"
    }
   },
   "outputs": [
    {
     "name": "stdout",
     "output_type": "stream",
     "text": [
      "{'Position_Home': [-0.016913697189088948, -0.018401088757142647, -0.017300479570629777, -0.01642816745722308, -0.015744780277271945, -0.01819213168693474, -0.017205344234898022, -0.017476058814359065, -0.016275906853612403, -0.015059180928335025, -0.013824832361792312, -0.01435325435857346, -0.014329053322870534, -0.013912771613310664, -0.012068327327720398, -0.01324939075980268, -0.010349918619103582, -0.011450993173541636, -0.009078539515320148, -0.008975976832263437, -0.011286953811771997, -0.010138290371134347, -0.01017303078453845, -0.010551635595969304, -0.006294415630353424, -0.009606380791792034, -0.011072640171353424, -0.00845139321191677, -0.010372742360437734, -0.0105089257754317], 'Points_Home': [-0.007778279161564573, -0.00776621440595552, -0.008043386869601767, -0.006000832933057986, -0.007014920218619479, -0.007127676282797306, -0.007960678020577185, -0.0059285108606316, -0.00526347781185622, -0.006730353299644776, -0.004098102247826595, -0.006446075226600803, -0.0040806328448786695, -0.004016170158542148, -0.006684865603732189, -0.0044108413237500775, -0.0024738651666517918, -0.00264529601236959, -0.002259563531005912, -0.005240545238854009, -0.004373658666242583, -0.002312093885513301, -0.0012587529073281797, 0.00024567915160699297, 0.0018612992867771475, -0.001253315993338052, -0.0011453352181423886, -0.006387097293382701, -0.003571884004120859, -0.004096642750199582], 'Total_Wins_Home': [-0.005640784756299617, -0.005615898216613881, -0.005320800225406624, -0.004454615732212547, -0.003935983426799958, -0.00458962486952806, -0.004495499867396355, -0.0043452151965699525, -0.003461855631639891, -0.0031894891927229624, -0.002962904553325483, -0.002179350398371068, -0.0027824255320810947, -0.0022091560876337612, -0.0026221083944585276, -0.0021313095752333805, -0.002091256519800034, -0.002393964473183262, -0.0020499623446902054, -0.00137099405395145, -0.0026696742893022327, -0.001783702906473427, -0.0015340009992838818, -0.002162684255263352, 0.00011518254338920662, -0.0010538330730269347, 0.0004725159404679155, 0.0012340282788332218, 0.0007353204542536097, -0.0008116183324749041], 'Total_Draw_Home': [0.009144075107332696, 0.009081480243889361, 0.007919013806621461, 0.007363014263578709, 0.004793030061779057, 0.006641198325785056, 0.005525821581611975, 0.007107134729078895, 0.005122089083063638, 0.0028381142785242567, 0.004790611412150042, 9.197596851175648e-05, 0.0042666437513638805, 0.002611298104358169, 0.0011814595796426567, 0.0019830874019488793, 0.003799904392749004, 0.0045365974071810665, 0.0038903235030644987, -0.0011275630769996025, 0.003635364201664205, 0.0030390148339069375, 0.003343250090523107, 0.006733731917397431, 0.001515751656609627, 0.0019081832257435948, -0.002562883039546286, -0.010089182129882334, -0.005777845366881871, -0.0016617877527748104], 'Total_Lose_Home': [0.02304196919321851, 0.017983797065501277, 0.01941228963787473, 0.01502882955560687, 0.017570390200250904, 0.018998505640320372, 0.01730816976540843, 0.014518775398397847, 0.014200791765474771, 0.00879542416212459, 0.009007167088158272, 0.007861688570644851, 0.012638389043162428, 0.01037969000287268, 0.007873496030062028, 0.010427176143719389, 0.008942696757294614, 0.01566894437631644, 0.007581252971529349, 0.0025364134920022197, 0.0036079906963472027, 0.009627283672608407, 0.009033297984928362, 0.015244940171669677, 0.0064535233545534535, 0.011044144572770675, 0.001824828110884511, -0.011468793208557301, -0.006351809186724478, 0.0010626722844824291], 'Total_Goals_For_Home_Team': [0.03266904498766385, 0.03095658362276335, 0.03209196132275584, 0.030131341653929004, 0.0297835424330698, 0.03175813794982774, 0.03273028248814014, 0.030151425049908784, 0.028518489980707842, 0.029845561725677542, 0.027533184804351008, 0.02898966544228309, 0.02881585423739085, 0.02811180013627428, 0.030618589301141384, 0.029087033097827307, 0.028278330408680327, 0.02819355239809956, 0.02652444343832414, 0.02846561812508206, 0.02833015790645448, 0.028089711009643435, 0.02665147842426102, 0.025817131023143574, 0.024392021260002204, 0.026105097442278784, 0.023432768334991916, 0.024186887324425522, 0.022224103774857614, 0.025343184036238035], 'Total_Goals_Against_Home_Team': [-0.022954933704662145, -0.021763689397203, -0.021298187885265114, -0.02088680190078755, -0.021773168005548113, -0.022559696754428198, -0.022234902762171303, -0.020802695785347734, -0.019792478744793948, -0.021401070490133747, -0.020268083860619054, -0.021272432328271435, -0.022161746159380245, -0.021650458226550522, -0.02196863048783722, -0.021709592021037807, -0.0220087953356028, -0.022941829438742335, -0.020615481635216266, -0.020526209544581068, -0.019603065171200532, -0.019775069728973672, -0.019360196341398937, -0.019887308313331468, -0.017794297559486992, -0.020247646390757896, -0.016083105511787245, -0.017208991841981457, -0.01603001746571609, -0.019582937524509056], 'Total_Streak_Home': [0.03266082453865847, 0.032405075689628436, 0.03263210014593194, 0.02558773272093919, 0.027778148808160284, 0.028095590052269335, 0.02569281748307593, 0.02337635976921925, 0.02026589326337023, 0.017627595653567963, 0.018040935917924432, 0.013231154325464569, 0.016298478399276905, 0.01249919979269764, 0.012845261672029124, 0.013182244325429884, 0.009174158824350243, 0.011261212995262927, 0.00869600697265378, 0.002978261853869817, 0.012400731873999458, 0.010898578228869903, 0.008625419593326163, 0.0059033012368439695, 0.002297022543610877, 0.007804076669173339, 0.007567609820272708, 0.004838829485803042, 0.002969495337466403, 0.008613799079468276], 'Wins_When_Home': [-0.013395040044085926, -0.018165164651674264, -0.014404874073612073, -0.017359431512585524, -0.01695980470134359, -0.0175174764871969, -0.0047744764466319195, -0.015453314162204797, -0.021868561969410526, -0.013866883972018386, -0.0231433063784773, -0.013953247454636115, -0.02737213563261883, -0.024808688120040574, -0.010710175756520637, -0.022703476019096832, -0.030656909701788575, -0.02943596096483654, -0.0313410378563632, -0.017182847929698052, -0.021852176667885803, -0.019669176576106916, -0.02007354354282045, -0.0290781321839042, -0.028365361620974448, -0.024009992292104352, -0.017417466110933023, 0.0013003278147333884, -0.00035187616013689907, -0.001096034749009366], 'Draw_When_Home': [-0.012520533582202332, -0.01116397060439214, -0.011185421174795915, -0.010373087571739588, -0.005522913136473184, -0.010769652780760306, -0.005685423603531053, -0.010190140671291634, -0.014975038605800304, -0.006939945347200336, -0.015637734983040847, -0.004888091520625964, -0.019076327277687544, -0.013799665514864641, -0.008798728839364186, -0.01608098234645557, -0.02339577927076931, -0.020014906165706083, -0.02466919632640821, -0.009236651129339064, -0.02128216826057042, -0.015837425422751114, -0.01592146085496617, -0.023587171871699696, -0.018147641316090687, -0.016414224485809262, -0.009210777152682629, 0.008707324412118982, 0.01257791165980316, -0.0007550642224317083], 'Lose_When_Home': [-0.023694269795333445, -0.014448200549847946, -0.016320827718163882, -0.01262975015720002, -0.01232459013868019, -0.013582071611312436, -0.013248562703847631, -0.008682532653661288, -0.012388887538914373, -0.0070980806547531325, -0.010856491704332573, -0.0076782983731467505, -0.02105686036245277, -0.013420867460463814, -0.011993164281071075, -0.014596440753091654, -0.0181007262768599, -0.023418583008913214, -0.0158760933275468, -0.010685716601495662, -0.014771105736830723, -0.015712571242947372, -0.013635457349035962, -0.02321697559152832, -0.01625626389265861, -0.019017085016134482, -0.009216949569017899, 0.008072489184669457, 0.012139703209276634, -0.0022489252502685916], 'Goals_For_When_Home': [-0.006279576023815829, -0.003880117252553831, -0.005630907808926382, -0.004240103524453962, -0.003205376062287361, -0.005203237910273565, -0.00911639640608543, -0.004460516064828023, -0.0022646437357991696, -0.0050685537688069954, -0.0017884816488182684, -0.004210581571435087, -0.004768669539167143, -0.004167854466295647, -0.007424825733758492, -0.005828422055797944, -0.004077582054936111, -0.004163210248706498, -0.0028156907445071352, -0.005035082716375525, -0.005925804763333739, -0.006643686052471548, -0.005966926311624651, -0.004329868668033271, -0.0043696302241963995, -0.005320898785276472, -0.004694117216614149, -0.005659922826663808, -0.003431825510939142, -0.008816570517724078], 'Goals_Against_When_Home': [0.0011465682185395085, -0.0007698920719517858, -0.0008807181965595624, -0.0010681059977701987, 0.0004953858756791341, 0.00023489692998001792, 0.0009847871413966587, -0.0010071190434227271, -0.0025977540966732066, 0.001418982603261925, -0.0008585938510950175, 0.00028540565968407307, 0.0022767673070693876, 0.001676568670750632, 0.0022895382794804035, 0.002322988368326956, 0.003413086406930892, 0.0047275888677200594, 0.0016846860566199053, 0.002649392028105652, 0.0017894117586983384, 0.0034605546981266435, 0.0030005441222377294, 0.0018911581666235806, 0.002081925706767193, 0.0042940224981606835, 0.002539411969444843, 0.0017910218510073263, 0.002270175397894287, 0.007626247139894126], 'Position_Away': [0.014472442786067633, 0.013660250640299045, 0.012874576474485191, 0.012671564963724053, 0.01075076058176061, 0.009955590266788552, 0.009965153798443031, 0.010148645847955435, 0.010601405286783484, 0.008946109686892313, 0.00828482740054012, 0.007156592266803235, 0.0068346541096073275, 0.00497553445588397, 0.005316090096907744, 0.002540815111860468, 0.0033023188201214276, 0.0010615003797034, -0.0013295273132093491, -0.0008787870251517846, 0.0001262743035029349, 0.0002643350935805565, -0.0033703146145749037, 0.0009915653744231928, -0.0012861711418042606, 1.9192342796778412e-05, 0.00042349374968263226, 0.0006233331083739773, 0.0051126616513739375, 0.00034854640392835656], 'Points_Away': [0.01034090329611756, 0.01088152851772985, 0.010842226626147066, 0.011601623195238473, 0.010078844414243731, 0.010316739178469557, 0.010182564538194815, 0.010630884072717374, 0.009903071945181476, 0.01025598571073514, 0.008797803873085664, 0.009969582548073508, 0.00902392767578735, 0.008379571634167865, 0.009913079488107499, 0.008196495296980785, 0.0070743653804514715, 0.0036096134307672116, 0.005673984152312655, 0.006533093674509808, 0.004301511129936805, 0.00436630322754848, 0.0025439011949480264, 0.0029035508725187022, 0.0021748878029471397, 0.004533402506403608, 0.0071798444117281215, 0.010065514654611177, 0.009100320280974157, 0.006286339449019071], 'Total_Wins_Away': [0.0035659186118066123, 0.002943598557422255, 0.004171869613947337, 0.0034409658953459673, 0.0022887024845152496, 0.0021305461977566844, 0.002262342284247913, 0.0027958571288142077, 0.0016945801314240784, 0.0008230701865216791, 0.000491027430699959, -0.0013512749450319496, -0.00016581536519278295, -0.0002150345839608283, -0.0006171545595214318, -0.0017650768673160516, -0.0005442169723390258, -0.0025654267419642804, -0.0016581413723818054, -0.003166716871862028, -0.0027983454757988958, -0.002528613374782355, -0.0045215641388737056, -0.0013418356705632078, -0.003829213487262096, -0.0024309467329235914, -0.0017241328223449241, -0.003107536547672126, -0.0017311133012369525, -0.0027522711702046864], 'Total_Draw_Away': [-0.0003568525393014596, 0.0020507328454637433, -0.001673382215696448, 0.0012787255092014341, 0.0032127369606979143, 0.003925100585198942, 0.0033955376854520897, 0.0022433126862742812, 0.0048193315509087835, 0.007786775151170095, 0.0073247215809862255, 0.014023407383169182, 0.009521373771365749, 0.00902467538605033, 0.011764543166672069, 0.013491725898928893, 0.008707016297468836, 0.011305893656660224, 0.01064840826945815, 0.016033244290095953, 0.012696547557333586, 0.011952143351895546, 0.01610859361156914, 0.006929057884208413, 0.01366252826473342, 0.011826242705174255, 0.01235224287876298, 0.019388124297628033, 0.01429366018468509, 0.014543152959633194], 'Total_Lose_Away': [-0.01213202120578691, -0.009456329459477527, -0.0068334080538388475, -0.009168838671911393, -0.0024639096209857765, -0.0020796780123206234, -0.003629439407965879, -0.007193248778814833, 0.0007411238538908684, 0.002304839868733438, -0.0011143660481424487, 0.011491193817189072, 0.005234977042071124, 0.0034967653291920636, 0.0065004920973396885, 0.01450412710017472, 0.007854687983425566, 0.015438294389475277, 0.013970804752361558, 0.022768352384175714, 0.017743885072036968, 0.014550959749467981, 0.019686850251240284, 0.010035809478958884, 0.014630891026242253, 0.014512566827478455, 0.01296150685913182, 0.0304044630889872, 0.019257202888831048, 0.027538734451326517], 'Total_Goals_For_Away_Team': [-0.030007838995620022, -0.02868493589958792, -0.030625588611529597, -0.03067069558966199, -0.029241866525249096, -0.02980459629043824, -0.029286697165099525, -0.03137442820909313, -0.029221539520328105, -0.028014193750191766, -0.02784108283765484, -0.02763306691970033, -0.02768443899393213, -0.02725320792739219, -0.02872423058221323, -0.026820971250612082, -0.02649144209494647, -0.02305769409630173, -0.02563311078179593, -0.023479834233961352, -0.022195675660598782, -0.0234332867443644, -0.022867728134553542, -0.023232085572481413, -0.022212686337159716, -0.023980120232199243, -0.026964366927086772, -0.025071343284204534, -0.023386322557328008, -0.021642821363289697], 'Total_Goals_Against_Away_Team': [0.027537041561534845, 0.026251613649499354, 0.026744629648574852, 0.027120027688254528, 0.026881142424330446, 0.02605183203607704, 0.026416170728907458, 0.028329212293210046, 0.024265668992952287, 0.025637404693568972, 0.026784019277182245, 0.023874693271079394, 0.0245099877731369, 0.026531614519329293, 0.026022531516307512, 0.022709226494398122, 0.02504417433685226, 0.02150481644541284, 0.022935269639972635, 0.02091283787548114, 0.0214667384653983, 0.020467719543008436, 0.021197893540172402, 0.02180537213993232, 0.0207564826498112, 0.0214009401134306, 0.02359060316274703, 0.021862493076544778, 0.022047862093580957, 0.01813381805317738], 'Total_Streak_Away': [-0.018081173892632786, -0.02355667549227867, -0.019202806941440546, -0.017425870924922697, -0.01582321520586811, -0.014789696112711555, -0.013950814320204247, -0.011339567916034715, -0.013083069293227055, -0.010821169846497792, -0.009950206453160096, -0.006952772804281222, -0.008692602581435402, -0.00863202120997327, -0.0011626776313331752, -0.001594924824507236, -0.002659037930645003, 0.0026031605854596233, -0.0025344372795407387, -0.0012868407623180238, 0.0027154709830860984, 0.0020630343814753336, 0.004385962489693351, -0.0003426891885125204, 0.0029241052616738217, 0.002563992088491251, 0.005155714766306646, 0.008301988901655864, -0.0023909261475743484, -0.005088280641203536], 'Wins_When_Away': [-0.009699817123862153, -0.01451733035665089, -0.016520954848669937, -0.019210890015330287, -0.018009001513896075, -0.019395363095226544, -0.018369634790226127, -0.023619538892780723, -0.01830473768104518, -0.020422371871550504, -0.013062432925945907, -0.019846712540745486, -0.009738388409123023, -0.013955712828893525, -0.020032329746325805, -0.014598178668761303, -0.009210318270322777, -0.0007112714131602192, -0.007124356653875082, -0.008774609359275905, 0.001455326710032619, -0.004498178187008005, 0.0008271348151638885, 0.000939613137335355, 0.006164798810137813, -0.005396453121974454, -0.01411811506093507, -0.029816074913761023, -0.030788041783858064, -0.019035672636462594], 'Draw_When_Away': [-0.014119111231160225, -0.018189731701984638, -0.012901783768552581, -0.01892130048369986, -0.020638981285141467, -0.01757235735450197, -0.019710284555402642, -0.018653722884349123, -0.014968270596000446, -0.022066940542922468, -0.015267971427946773, -0.027150482415370245, -0.012994844180093583, -0.016023494300486996, -0.021471691625931107, -0.015996087875750707, -0.00740357797550347, -0.011078042029211435, -0.00793259773222573, -0.020507551215336154, -0.008002153675994305, -0.013026339826948816, -0.015714944724177227, -0.003909890395830333, -0.011870746361696658, -0.012498534407826674, -0.01780947954901492, -0.03539418650126495, -0.03673504256736922, -0.02758426164816224], 'Lose_When_Away': [-0.0012656347525469777, 9.367036719257324e-05, -0.004480524833617084, -0.0038156822742331296, -0.007574444592901508, -0.005548706510804995, -0.012158592903008974, -0.003184936921263303, -0.005988891712816368, -0.009409434277354942, -0.003006130925751845, -0.015331675340724259, -0.000999507152617288, -0.0024315504794063247, -0.0075990265409249585, -0.009220477705782567, 0.0007861657308651385, -0.006720724840647038, -0.005168530138682139, -0.016971070501929243, -0.008314968549877497, -0.012778432551572733, -0.01800312954515299, -0.0036096836423344892, -0.015045104307083362, -0.009912943716434886, -0.016485047462634565, -0.03857817375743173, -0.03235848582566407, -0.038901140265310566], 'Goals_For_When_Away': [0.006554194882837062, 0.006239740458001574, 0.007926374361444562, 0.007846004896010833, 0.006282743874105357, 0.007861713074378909, 0.006414607547775362, 0.009304311717055789, 0.008125173911664759, 0.005194224566273531, 0.006210151364776601, 0.006705860218095841, 0.00616995382941011, 0.005959062035804015, 0.007614711444327347, 0.006492110390036155, 0.0054803192995866775, 0.0026033823257200104, 0.005558744583442824, 0.003328921151070241, 0.00228670551062084, 0.002682877944779902, 0.0025966818701829903, 0.0049186407703404565, 0.0023876046817198414, 0.0047806261242470905, 0.0061302388347287545, 0.0062651706474007645, 0.0035932970549173828, 0.0007082655359426186], 'Goals_Against_When_Away': [-0.00856457544835557, -0.00819961376008383, -0.008212834901065768, -0.00791567059695912, -0.008942508826518841, -0.008333060375547773, -0.006016186283897613, -0.009855973722396053, -0.006805244799485829, -0.007233104518119229, -0.00962819125125658, -0.006461973765119942, -0.006869538815430781, -0.008598810052820934, -0.008108132565083713, -0.005740943704679943, -0.009290077116155766, -0.006314490068173132, -0.007086728186030946, -0.005921426789299373, -0.005778515095633567, -0.004376544910239476, -0.005060769989767792, -0.006667494629677032, -0.004752820157991687, -0.006874464942279897, -0.007622901603497951, -0.005699933916220814, -0.00695123798328729, -0.0011712744935623099], 'Streak_When_Home': [0.03724001602432313, 0.03892982353442895, 0.03917177715406599, 0.03867646209454115, 0.04228377479879645, 0.03718867288495252, 0.03459576719657432, 0.034180378286252804, 0.034000947011170235, 0.03535148567725727, 0.034711842694779, 0.0325288900422121, 0.031708916002484586, 0.03230918552800455, 0.027066187025047806, 0.028258348133852966, 0.026533011326834544, 0.026858853078726957, 0.02551740501282244, 0.029128678272910314, 0.018643698914886184, 0.022627954329829617, 0.020274055827845104, 0.01825759104633568, 0.024210402165081937, 0.018804624751608375, 0.021417050984101356, 0.018783789640660815, 0.028730716678265152, 0.0215433571938397], 'Streak_When_Away': [-0.056103764675746744, -0.05138669337318242, -0.05191051014110083, -0.05344843922553987, -0.04988007910151624, -0.0493520572325493, -0.049598137288052346, -0.047108737255544986, -0.043188216963847996, -0.04225924912368375, -0.04042554790946164, -0.038526114428741806, -0.03403895144533545, -0.033516304594389285, -0.03433670837038065, -0.033197240693049676, -0.02940691304805669, -0.031224766504641874, -0.03170578478918477, -0.030932749999670953, -0.03159321730102361, -0.02681178088669557, -0.028027029727381348, -0.024597629159638482, -0.030805924978265967, -0.02360070081842645, -0.026412593141137024, -0.021750121909224873, -0.01737882075986661, -0.013259868580307147]}\n",
      "[0.40417084269616227, 0.4284423891612979, 0.41040657719849327, 0.4205396362678132, 0.3988053845764059, 0.450827312252369, 0.44624544330606974, 0.4397489403454782, 0.4352155005388911, 0.4330775821244758, 0.408395798206994, 0.4369311511521363, 0.4051758902125959, 0.4329711199943496, 0.4135624222416546, 0.42622355026156256, 0.422761728417594, 0.45291522355894215, 0.5016916257928297, 0.47160989228510175, 0.47222035246846866, 0.40831354426839594, 0.44172108969069307, 0.41680355353969906, 0.39914804545659105, 0.4509863258431381, 0.434923677204329, 0.4800627630099234, 0.33229502502508235, 0.4916097436295826]\n"
     ]
    },
    {
     "ename": "NameError",
     "evalue": "name 'mode_score' is not defined",
     "output_type": "error",
     "traceback": [
      "\u001b[0;31m---------------------------------------------------------------------------\u001b[0m",
      "\u001b[0;31mNameError\u001b[0m                                 Traceback (most recent call last)",
      "\u001b[0;32m/var/folders/dn/_ysfbs6s2vz_pmnp3hg_bkgc0000gn/T/ipykernel_49118/339799682.py\u001b[0m in \u001b[0;36m<module>\u001b[0;34m\u001b[0m\n\u001b[1;32m     13\u001b[0m \u001b[0mprint\u001b[0m\u001b[0;34m(\u001b[0m\u001b[0mfeature_weights_dict\u001b[0m\u001b[0;34m)\u001b[0m\u001b[0;34m\u001b[0m\u001b[0;34m\u001b[0m\u001b[0m\n\u001b[1;32m     14\u001b[0m \u001b[0mprint\u001b[0m\u001b[0;34m(\u001b[0m\u001b[0mm_values\u001b[0m\u001b[0;34m)\u001b[0m\u001b[0;34m\u001b[0m\u001b[0;34m\u001b[0m\u001b[0m\n\u001b[0;32m---> 15\u001b[0;31m \u001b[0mprint\u001b[0m\u001b[0;34m(\u001b[0m\u001b[0mmode_score\u001b[0m\u001b[0;34m)\u001b[0m\u001b[0;34m\u001b[0m\u001b[0;34m\u001b[0m\u001b[0m\n\u001b[0m",
      "\u001b[0;31mNameError\u001b[0m: name 'mode_score' is not defined"
     ]
    }
   ],
   "source": [
    "feature_weights_dict = {}\n",
    "m_values = []\n",
    "model_score = []\n",
    "for feat in features:\n",
    "    feature_weights_dict[feat] = []\n",
    "\n",
    "for j, _ in enumerate(list(linear_reg_dict.values())):\n",
    "    for i, feat in enumerate(list(linear_reg_dict.values())[j][0]):\n",
    "        feature_weights_dict[features[i]].append(feat)\n",
    "    m_values.append(list(linear_reg_dict.values())[j][1])\n",
    "    model_score.append(list(linear_reg_dict.values())[j][2])\n",
    "    \n",
    "print(feature_weights_dict)    \n",
    "print(m_values)\n",
    "print(mode_score)"
   ]
  },
  {
   "cell_type": "code",
   "execution_count": null,
   "id": "69214fc3",
   "metadata": {
    "ExecuteTime": {
     "end_time": "2021-11-10T19:13:08.673359Z",
     "start_time": "2021-11-10T19:13:08.673342Z"
    }
   },
   "outputs": [],
   "source": [
    "rounds = [x+1 for x in range(30)]"
   ]
  },
  {
   "cell_type": "code",
   "execution_count": null,
   "id": "2b76736a",
   "metadata": {
    "ExecuteTime": {
     "end_time": "2021-11-10T19:13:08.674857Z",
     "start_time": "2021-11-10T19:13:08.674841Z"
    }
   },
   "outputs": [],
   "source": [
    "rounds"
   ]
  },
  {
   "cell_type": "code",
   "execution_count": null,
   "id": "a474a636",
   "metadata": {
    "ExecuteTime": {
     "end_time": "2021-11-10T19:13:08.676415Z",
     "start_time": "2021-11-10T19:13:08.676400Z"
    }
   },
   "outputs": [],
   "source": [
    "feat_df = pd.DataFrame(feature_weights_dict)"
   ]
  },
  {
   "cell_type": "code",
   "execution_count": null,
   "id": "87f7daf6",
   "metadata": {
    "ExecuteTime": {
     "end_time": "2021-11-10T19:13:08.677829Z",
     "start_time": "2021-11-10T19:13:08.677813Z"
    }
   },
   "outputs": [],
   "source": [
    "feat_df"
   ]
  },
  {
   "cell_type": "code",
   "execution_count": null,
   "id": "f803e7fc",
   "metadata": {
    "ExecuteTime": {
     "end_time": "2021-11-10T19:13:08.679388Z",
     "start_time": "2021-11-10T19:13:08.679372Z"
    }
   },
   "outputs": [],
   "source": [
    "feat_df[\"model_score\"] = model_score\n",
    "feat_df[\"m_value\"] = m_values"
   ]
  },
  {
   "cell_type": "code",
   "execution_count": null,
   "id": "9ebf99de",
   "metadata": {
    "ExecuteTime": {
     "end_time": "2021-11-10T19:13:08.680713Z",
     "start_time": "2021-11-10T19:13:08.680698Z"
    }
   },
   "outputs": [],
   "source": [
    "feat_df"
   ]
  },
  {
   "cell_type": "code",
   "execution_count": null,
   "id": "cb779dab",
   "metadata": {
    "ExecuteTime": {
     "end_time": "2021-11-10T19:13:08.682261Z",
     "start_time": "2021-11-10T19:13:08.682246Z"
    }
   },
   "outputs": [],
   "source": [
    "feat_df[feat_df.columns[0]]"
   ]
  },
  {
   "cell_type": "code",
   "execution_count": null,
   "id": "ffe0ec32",
   "metadata": {
    "ExecuteTime": {
     "end_time": "2021-11-10T19:13:08.683790Z",
     "start_time": "2021-11-10T19:13:08.683773Z"
    }
   },
   "outputs": [],
   "source": [
    "%matplotlib inline\n",
    "fig, axs = plt.subplots(len(feat_df.columns),figsize=(10, 150))\n",
    "fig.suptitle('Varying Scores when squeezing the data towards Season end')\n",
    "for i, ax in enumerate(axs):\n",
    "    ax.plot(rounds, feat_df[feat_df.columns[i]])\n",
    "    ax.set_title(feat_df.columns[i])\n",
    "    \n",
    "plt.show()\n",
    "\n"
   ]
  },
  {
   "cell_type": "code",
   "execution_count": null,
   "id": "2092ec01",
   "metadata": {
    "ExecuteTime": {
     "end_time": "2021-11-10T19:13:08.685272Z",
     "start_time": "2021-11-10T19:13:08.685254Z"
    }
   },
   "outputs": [],
   "source": [
    "features_plus = ['Round','Position_Home', 'Points_Home', 'Total_Wins_Home',\n",
    "       'Total_Draw_Home', 'Total_Lose_Home', 'Total_Goals_For_Home_Team',\n",
    "       'Total_Goals_Against_Home_Team', 'Total_Streak_Home', 'Wins_When_Home',\n",
    "       'Draw_When_Home', 'Lose_When_Home', 'Goals_For_When_Home',\n",
    "       'Goals_Against_When_Home', 'Position_Away', 'Points_Away',\n",
    "       'Total_Wins_Away', 'Total_Draw_Away', 'Total_Lose_Away',\n",
    "       'Total_Goals_For_Away_Team', 'Total_Goals_Against_Away_Team',\n",
    "       'Total_Streak_Away', 'Wins_When_Away', 'Draw_When_Away',\n",
    "       'Lose_When_Away', 'Goals_For_When_Away', 'Goals_Against_When_Away',\n",
    "       'Streak_When_Home', 'Streak_When_Away',]\n",
    "X = np.array(combined_csv[features_plus])\n",
    "y = np.array(combined_csv['difference'])\n",
    "\n",
    "X_train, X_test, y_train, y_test = train_test_split(X, y, test_size=0.2, random_state=4)\n",
    "model = LinearRegression()\n",
    "model.fit(X_train, y_train)\n",
    "b = model.intercept_\n",
    "m = model.coef_\n",
    "print (m, b, model.score(X_train, y_train))"
   ]
  },
  {
   "cell_type": "code",
   "execution_count": null,
   "id": "6dc3e573",
   "metadata": {
    "ExecuteTime": {
     "end_time": "2021-11-10T19:13:08.686892Z",
     "start_time": "2021-11-10T19:13:08.686876Z"
    }
   },
   "outputs": [],
   "source": [
    "from sklearn.linear_model import SGDRegressor\n",
    "\n",
    "features = ['Position_Home', 'Points_Home', 'Total_Wins_Home',\n",
    "       'Total_Draw_Home', 'Total_Lose_Home', 'Total_Goals_For_Home_Team',\n",
    "       'Total_Goals_Against_Home_Team', 'Total_Streak_Home', 'Wins_When_Home',\n",
    "       'Draw_When_Home', 'Lose_When_Home', 'Goals_For_When_Home',\n",
    "       'Goals_Against_When_Home', 'Position_Away', 'Points_Away',\n",
    "       'Total_Wins_Away', 'Total_Draw_Away', 'Total_Lose_Away',\n",
    "       'Total_Goals_For_Away_Team', 'Total_Goals_Against_Away_Team',\n",
    "       'Total_Streak_Away', 'Wins_When_Away', 'Draw_When_Away',\n",
    "       'Lose_When_Away', 'Goals_For_When_Away', 'Goals_Against_When_Away',\n",
    "       'Streak_When_Home', 'Streak_When_Away',]\n",
    "X = np.array(combined_csv[features])\n",
    "y = np.array(combined_csv['difference'])\n",
    "\n",
    "X_train, X_test, y_train, y_test = train_test_split(X, y, test_size=0.2, random_state=4)\n",
    "model = SGDRegressor(max_iter=1000, tol=1e-3)\n",
    "model.fit(X_train, y_train)\n",
    "b = model.intercept_\n",
    "m = model.coef_\n",
    "print (m, b, model.score(X_train, y_train))"
   ]
  },
  {
   "cell_type": "code",
   "execution_count": null,
   "id": "5d3fb7c5",
   "metadata": {},
   "outputs": [],
   "source": []
  }
 ],
 "metadata": {
  "kernelspec": {
   "display_name": "Python [conda env:AiCore] *",
   "language": "python",
   "name": "conda-env-AiCore-py"
  },
  "language_info": {
   "codemirror_mode": {
    "name": "ipython",
    "version": 3
   },
   "file_extension": ".py",
   "mimetype": "text/x-python",
   "name": "python",
   "nbconvert_exporter": "python",
   "pygments_lexer": "ipython3",
   "version": "3.9.6"
  }
 },
 "nbformat": 4,
 "nbformat_minor": 5
}
